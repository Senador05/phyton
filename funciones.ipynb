{
 "cells": [
  {
   "cell_type": "code",
   "execution_count": 1,
   "metadata": {},
   "outputs": [
    {
     "data": {
      "text/plain": [
       "True"
      ]
     },
     "execution_count": 1,
     "metadata": {},
     "output_type": "execute_result"
    }
   ],
   "source": [
    "bool(4)"
   ]
  },
  {
   "cell_type": "code",
   "execution_count": 2,
   "metadata": {},
   "outputs": [
    {
     "data": {
      "text/plain": [
       "{'juan': 6, 'Ana': 5, 'Pedro': 9, 'Luisa': 10}"
      ]
     },
     "execution_count": 2,
     "metadata": {},
     "output_type": "execute_result"
    }
   ],
   "source": [
    "alumnos = ['juan', 'Ana', 'Pedro', 'Luisa']\n",
    "notas = [6, 5, 9, 10]\n",
    "comb = list(zip(alumnos, notas))\n",
    "dict_alumnos = dict(comb)\n",
    "dict_alumnos"
   ]
  },
  {
   "cell_type": "code",
   "execution_count": 3,
   "metadata": {},
   "outputs": [
    {
     "data": {
      "text/plain": [
       "['Luisa', 'Pedro', 'juan', 'Ana']"
      ]
     },
     "execution_count": 3,
     "metadata": {},
     "output_type": "execute_result"
    }
   ],
   "source": [
    "alumnos_ord = sorted(dict_alumnos, key=lambda s: s[2], reverse=True)\n",
    "alumnos_ord"
   ]
  },
  {
   "cell_type": "code",
   "execution_count": 4,
   "metadata": {},
   "outputs": [
    {
     "name": "stdout",
     "output_type": "stream",
     "text": [
      "si es >= que 2\n"
     ]
    }
   ],
   "source": [
    "n = 3\n",
    "\n",
    "if n >= 2 and n< 5:\n",
    " print('si es >= que 2')\n",
    "elif n<=5:\n",
    "    print('es menoror que 5')\n",
    "elif n<7:\n",
    "    print('es menor que 7')\n",
    "else:\n",
    " print('es menor que 2')\n",
    "\n",
    " \n",
    "\n",
    "\n",
    "    \n",
    "\n"
   ]
  },
  {
   "cell_type": "code",
   "execution_count": 5,
   "metadata": {},
   "outputs": [
    {
     "name": "stdout",
     "output_type": "stream",
     "text": [
      "hola está en hola mundo\n"
     ]
    }
   ],
   "source": [
    "n= n*2\n",
    "txt ='hola'\n",
    "\n",
    "if txt in 'Hola mundo':\n",
    "    n = 1\n",
    "print('hola está en hola mundo')"
   ]
  },
  {
   "cell_type": "code",
   "execution_count": null,
   "metadata": {},
   "outputs": [],
   "source": []
  },
  {
   "cell_type": "code",
   "execution_count": null,
   "metadata": {},
   "outputs": [],
   "source": []
  },
  {
   "cell_type": "code",
   "execution_count": 6,
   "metadata": {},
   "outputs": [
    {
     "name": "stdout",
     "output_type": "stream",
     "text": [
      "si es >= que 2\n"
     ]
    }
   ],
   "source": [
    "n = 3\n",
    "\n",
    "if n >= 2 and n< 5:\n",
    " print('si es >= que 2')\n",
    "elif n<=5:\n",
    "    print('es menoror que 5')\n",
    "elif n<7:\n",
    "    print('es menor que 7')\n",
    "else:\n",
    " print('es menor que 2')\n",
    "\n",
    " \n",
    "\n",
    "\n",
    "    \n",
    "\n"
   ]
  },
  {
   "cell_type": "code",
   "execution_count": 7,
   "metadata": {},
   "outputs": [
    {
     "name": "stdout",
     "output_type": "stream",
     "text": [
      "a 1\n",
      "menor que 3\n",
      "b 2\n",
      "menor que 3\n",
      "z 0\n",
      "menor que 3\n",
      "salgo\n"
     ]
    }
   ],
   "source": [
    "l1 = [1,2,3,4]\n",
    "t1 = [1,2,3,4]\n",
    "s1 = [1,2,3,4]\n",
    "d1 = { 'a': 1, 'b':2,'z': 0,'c':3}\n",
    "for key, val in d1.items():\n",
    "\n",
    "    if val > 2:\n",
    "        print('no sigo en esta iteración')\n",
    "        continue\n",
    "    print(key,val)\n",
    "    if val>2:\n",
    "        print('mayorque 2')\n",
    "    else:\n",
    "        print('menor que 3')\n",
    "    if val == 0:\n",
    "        print('salgo')\n",
    "        break"
   ]
  },
  {
   "cell_type": "code",
   "execution_count": 8,
   "metadata": {},
   "outputs": [
    {
     "name": "stdout",
     "output_type": "stream",
     "text": [
      "0\n",
      "1\n",
      "2\n",
      "3\n",
      "4\n",
      "5\n",
      "6\n",
      "7\n",
      "8\n",
      "9\n"
     ]
    }
   ],
   "source": [
    "contador = 0\n",
    "\n",
    "\n",
    "while contador <10:\n",
    "    print(contador)\n",
    "    contador += 1\n"
   ]
  },
  {
   "cell_type": "code",
   "execution_count": 9,
   "metadata": {},
   "outputs": [
    {
     "name": "stdout",
     "output_type": "stream",
     "text": [
      "1\n",
      "2\n",
      "3\n",
      "4\n",
      "5\n"
     ]
    }
   ],
   "source": [
    "l1 = [1,2,3,4,5]\n",
    "index = 0\n",
    "while index < len(l1):\n",
    "    print(l1[index])\n",
    "    index += 1"
   ]
  },
  {
   "cell_type": "code",
   "execution_count": 2,
   "metadata": {},
   "outputs": [
    {
     "name": "stdout",
     "output_type": "stream",
     "text": [
      "100\n"
     ]
    }
   ],
   "source": [
    "num1 = 100\n",
    "num2 = 30\n",
    "num3 = 20\n",
    "aux = num1\n",
    "\n",
    "if num2 >= num1:\n",
    "    aux = num2\n",
    "else:\n",
    "    aux = num1\n",
    "\n",
    "if aux <= num3:\n",
    "    aux = num3\n",
    "else:\n",
    "    aux = aux\n",
    "\n",
    "print(aux)\n"
   ]
  },
  {
   "cell_type": "code",
   "execution_count": null,
   "metadata": {},
   "outputs": [],
   "source": []
  },
  {
   "cell_type": "code",
   "execution_count": null,
   "metadata": {},
   "outputs": [],
   "source": []
  }
 ],
 "metadata": {
  "kernelspec": {
   "display_name": "Python 3.8 - Pytorch and Tensorflow",
   "language": "python",
   "name": "python38-azureml-pt-tf"
  },
  "language_info": {
   "codemirror_mode": {
    "name": "ipython",
    "version": 3
   },
   "file_extension": ".py",
   "mimetype": "text/x-python",
   "name": "python",
   "nbconvert_exporter": "python",
   "pygments_lexer": "ipython3",
   "version": "3.10.14"
  }
 },
 "nbformat": 4,
 "nbformat_minor": 2
}
