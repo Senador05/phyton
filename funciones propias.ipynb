{
 "cells": [
  {
   "cell_type": "code",
   "execution_count": 17,
   "metadata": {},
   "outputs": [
    {
     "name": "stdout",
     "output_type": "stream",
     "text": [
      "hola mundo\n",
      "hola ric\n",
      "hola ana\n",
      "esto es el texto\n"
     ]
    }
   ],
   "source": [
    "def imprime_texto(texto):\n",
    "    print(texto)\n",
    "\n",
    "palabras =  'esto es el texto'\n",
    "\n",
    "imprime_texto('hola mundo')\n",
    "imprime_texto('hola ric')\n",
    "imprime_texto('hola ana')\n",
    "imprime_texto(palabras)"
   ]
  },
  {
   "cell_type": "code",
   "execution_count": 18,
   "metadata": {},
   "outputs": [
    {
     "name": "stdout",
     "output_type": "stream",
     "text": [
      "informe con: None\n"
     ]
    }
   ],
   "source": [
    "def calculo_comision(ventas, porc):\n",
    "    comision = sum(ventas)*porc/100\n",
    "\n",
    "\n",
    "ventasreales = [199, 200, 300, 20039]\n",
    "porcentaje = 10\n",
    "\n",
    "valor_comision = calculo_comision(ventasreales, porcentaje)\n",
    "print('informe con:', valor_comision)"
   ]
  }
 ],
 "metadata": {
  "kernelspec": {
   "display_name": "Python 3.8 - Pytorch and Tensorflow",
   "language": "python",
   "name": "python38-azureml-pt-tf"
  },
  "language_info": {
   "codemirror_mode": {
    "name": "ipython",
    "version": 3
   },
   "file_extension": ".py",
   "mimetype": "text/x-python",
   "name": "python",
   "nbconvert_exporter": "python",
   "pygments_lexer": "ipython3",
   "version": "3.10.14"
  }
 },
 "nbformat": 4,
 "nbformat_minor": 2
}
