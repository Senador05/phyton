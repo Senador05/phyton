{
 "cells": [
  {
   "cell_type": "code",
   "execution_count": 1,
   "metadata": {},
   "outputs": [
    {
     "name": "stdout",
     "output_type": "stream",
     "text": [
      "hola mundo\n",
      "hola ric\n",
      "hola ana\n",
      "esto es el texto\n"
     ]
    }
   ],
   "source": [
    "def imprime_texto(texto):\n",
    "    print(texto)\n",
    "\n",
    "palabras =  'esto es el texto'\n",
    "\n",
    "imprime_texto('hola mundo')\n",
    "imprime_texto('hola ric')\n",
    "imprime_texto('hola ana')\n",
    "imprime_texto(palabras)"
   ]
  },
  {
   "cell_type": "code",
   "execution_count": 2,
   "metadata": {},
   "outputs": [
    {
     "name": "stdout",
     "output_type": "stream",
     "text": [
      "informe con: None\n"
     ]
    }
   ],
   "source": [
    "def calculo_comision(ventas, porc):\n",
    "    comision = sum(ventas)*porc/100\n",
    "\n",
    "\n",
    "ventasreales = [10, 200, 300, 2000]\n",
    "porcentaje = 10\n",
    "\n",
    "valor_comision = calculo_comision(ventasreales, porcentaje)\n",
    "print('informe con:', valor_comision)"
   ]
  },
  {
   "cell_type": "code",
   "execution_count": 3,
   "metadata": {},
   "outputs": [
    {
     "name": "stdout",
     "output_type": "stream",
     "text": [
      "1 2\n",
      "continuar\n"
     ]
    }
   ],
   "source": [
    "def generaPDFYguarda(a,b):\n",
    "    # proceso y genero informe\n",
    "    print(a,b)\n",
    "    return True\n",
    "isok = generaPDFYguarda(1,2)\n",
    "\n",
    "if isok:\n",
    "    print('continuar')\n",
    "else:\n",
    "    print ('parar')\n",
    "# resto programa"
   ]
  },
  {
   "cell_type": "code",
   "execution_count": 4,
   "metadata": {},
   "outputs": [
    {
     "name": "stdout",
     "output_type": "stream",
     "text": [
      "1156\n",
      "1156\n"
     ]
    }
   ],
   "source": [
    "def cuadrado(n):\n",
    "    return n**2\n",
    "\n",
    "cuadroL= lambda n: n**2\n",
    "\n",
    "type(cuadroL)\n",
    "\n",
    "print(cuadrado(34))\n",
    "print(cuadroL(34))\n",
    "\n"
   ]
  },
  {
   "cell_type": "code",
   "execution_count": 5,
   "metadata": {},
   "outputs": [
    {
     "name": "stdout",
     "output_type": "stream",
     "text": [
      "2\n",
      "<function miFunc at 0x7f587c5aa440>\n",
      "4\n",
      "2\n",
      "<function <lambda> at 0x7f587c5a9c60>\n",
      "6\n"
     ]
    }
   ],
   "source": [
    "def funcEspecial(num, unaFunciób):\n",
    "    print(num)\n",
    "    print(unaFunciób)\n",
    "    res = unaFunciób(num)\n",
    "    print(res)\n",
    "\n",
    "unNum = 2\n",
    "\n",
    "def miFunc(val):\n",
    "    return val*2\n",
    "\n",
    "\n",
    "funcEspecial(unNum, miFunc)\n",
    "funcEspecial(unNum, lambda x:x*3)"
   ]
  },
  {
   "cell_type": "code",
   "execution_count": 6,
   "metadata": {},
   "outputs": [
    {
     "name": "stdout",
     "output_type": "stream",
     "text": [
      "hola mundo\n"
     ]
    }
   ],
   "source": [
    "print('hola mundo')"
   ]
  },
  {
   "cell_type": "code",
   "execution_count": 2,
   "metadata": {},
   "outputs": [
    {
     "name": "stdout",
     "output_type": "stream",
     "text": [
      "a 3 b 4\n",
      "a 2 b 1\n"
     ]
    },
    {
     "data": {
      "text/plain": [
       "3"
      ]
     },
     "execution_count": 2,
     "metadata": {},
     "output_type": "execute_result"
    }
   ],
   "source": [
    "def suma(a, b):\n",
    "    print('a',a,'b',b)\n",
    "    return a+b\n",
    "\n",
    "val =suma (3, 4)\n",
    "val = suma (b=1, a=2)\n",
    "val"
   ]
  }
 ],
 "metadata": {
  "kernelspec": {
   "display_name": "Python 3.8 - Pytorch and Tensorflow",
   "language": "python",
   "name": "python38-azureml-pt-tf"
  },
  "language_info": {
   "codemirror_mode": {
    "name": "ipython",
    "version": 3
   },
   "file_extension": ".py",
   "mimetype": "text/x-python",
   "name": "python",
   "nbconvert_exporter": "python",
   "pygments_lexer": "ipython3",
   "version": "3.10.14"
  }
 },
 "nbformat": 4,
 "nbformat_minor": 2
}
