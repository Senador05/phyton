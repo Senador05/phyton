{
 "cells": [
  {
   "cell_type": "code",
   "execution_count": 1,
   "metadata": {},
   "outputs": [],
   "source": [
    "import numpy as np"
   ]
  },
  {
   "cell_type": "code",
   "execution_count": 2,
   "metadata": {},
   "outputs": [
    {
     "name": "stdout",
     "output_type": "stream",
     "text": [
      " where()\n",
      "\n",
      "where(condition, [x, y], /)\n",
      "\n",
      "Return elements chosen from `x` or `y` depending on `condition`.\n",
      "\n",
      ".. note::\n",
      "    When only `condition` is provided, this function is a shorthand for\n",
      "    ``np.asarray(condition).nonzero()``. Using `nonzero` directly should be\n",
      "    preferred, as it behaves correctly for subclasses. The rest of this\n",
      "    documentation covers only the case where all three arguments are\n",
      "    provided.\n",
      "\n",
      "Parameters\n",
      "----------\n",
      "condition : array_like, bool\n",
      "    Where True, yield `x`, otherwise yield `y`.\n",
      "x, y : array_like\n",
      "    Values from which to choose. `x`, `y` and `condition` need to be\n",
      "    broadcastable to some shape.\n",
      "\n",
      "Returns\n",
      "-------\n",
      "out : ndarray\n",
      "    An array with elements from `x` where `condition` is True, and elements\n",
      "    from `y` elsewhere.\n",
      "\n",
      "See Also\n",
      "--------\n",
      "choose\n",
      "nonzero : The function that is called when x and y are omitted\n",
      "\n",
      "Notes\n",
      "-----\n",
      "If all the arrays are 1-D, `where` is equivalent to::\n",
      "\n",
      "    [xv if c else yv\n",
      "     for c, xv, yv in zip(condition, x, y)]\n",
      "\n",
      "Examples\n",
      "--------\n",
      ">>> a = np.arange(10)\n",
      ">>> a\n",
      "array([0, 1, 2, 3, 4, 5, 6, 7, 8, 9])\n",
      ">>> np.where(a < 5, a, 10*a)\n",
      "array([ 0,  1,  2,  3,  4, 50, 60, 70, 80, 90])\n",
      "\n",
      "This can be used on multidimensional arrays too:\n",
      "\n",
      ">>> np.where([[True, False], [True, True]],\n",
      "...          [[1, 2], [3, 4]],\n",
      "...          [[9, 8], [7, 6]])\n",
      "array([[1, 8],\n",
      "       [3, 4]])\n",
      "\n",
      "The shapes of x, y, and the condition are broadcast together:\n",
      "\n",
      ">>> x, y = np.ogrid[:3, :4]\n",
      ">>> np.where(x < y, x, 10 + y)  # both x and 10+y are broadcast\n",
      "array([[10,  0,  0,  0],\n",
      "       [10, 11,  1,  1],\n",
      "       [10, 11, 12,  2]])\n",
      "\n",
      ">>> a = np.array([[0, 1, 2],\n",
      "...               [0, 2, 4],\n",
      "...               [0, 3, 6]])\n",
      ">>> np.where(a < 4, a, -1)  # -1 is broadcast\n",
      "array([[ 0,  1,  2],\n",
      "       [ 0,  2, -1],\n",
      "       [ 0,  3, -1]])\n"
     ]
    }
   ],
   "source": [
    "np.info(np.where)"
   ]
  },
  {
   "cell_type": "code",
   "execution_count": 3,
   "metadata": {},
   "outputs": [
    {
     "data": {
      "text/plain": [
       "array([1, 2, 3])"
      ]
     },
     "execution_count": 3,
     "metadata": {},
     "output_type": "execute_result"
    }
   ],
   "source": [
    "a1 = np.array([1, 2, 3])\n",
    "a1"
   ]
  },
  {
   "cell_type": "code",
   "execution_count": 6,
   "metadata": {},
   "outputs": [
    {
     "data": {
      "text/plain": [
       "array([2, 3])"
      ]
     },
     "execution_count": 6,
     "metadata": {},
     "output_type": "execute_result"
    }
   ],
   "source": [
    "a1[a1>1]"
   ]
  },
  {
   "cell_type": "code",
   "execution_count": 15,
   "metadata": {},
   "outputs": [
    {
     "data": {
      "text/plain": [
       "array([[ 1,  2,  3,  7,  8,  9],\n",
       "       [ 4,  5,  6, 10, 11, 12]])"
      ]
     },
     "execution_count": 15,
     "metadata": {},
     "output_type": "execute_result"
    }
   ],
   "source": [
    "arr1 = np.array([[1,2,3],[4,5,6]])\n",
    "arr2 = np.array([[7,8,9],[10,11,12]])\n",
    "\n",
    "arr = np. concatenate((arr1,arr2),1)\n",
    "arr"
   ]
  },
  {
   "cell_type": "code",
   "execution_count": 24,
   "metadata": {},
   "outputs": [
    {
     "name": "stdout",
     "output_type": "stream",
     "text": [
      "[ 1.  2. nan  7.  4.  0.]\n"
     ]
    },
    {
     "data": {
      "text/plain": [
       "nan"
      ]
     },
     "execution_count": 24,
     "metadata": {},
     "output_type": "execute_result"
    }
   ],
   "source": [
    "arr = np.array([1, 2, np.nan, 7, 4, 0])\n",
    "print (arr)\n",
    "sum(arr)"
   ]
  },
  {
   "cell_type": "code",
   "execution_count": 21,
   "metadata": {},
   "outputs": [
    {
     "name": "stdout",
     "output_type": "stream",
     "text": [
      "[1. 2. 0. 7. 4. 0.]\n"
     ]
    }
   ],
   "source": [
    "for pos in range(len(arr)):\n",
    "    if np.isnan(arr[pos]):\n",
    "        arr[pos]= 0\n",
    "print(arr)"
   ]
  },
  {
   "cell_type": "code",
   "execution_count": 28,
   "metadata": {},
   "outputs": [
    {
     "data": {
      "text/plain": [
       "array([1., 2., 7., 4., 0.])"
      ]
     },
     "execution_count": 28,
     "metadata": {},
     "output_type": "execute_result"
    }
   ],
   "source": [
    "lista = [x for x in arr if not np.isnan(x)]\n",
    "np.array(lista)"
   ]
  },
  {
   "cell_type": "code",
   "execution_count": 29,
   "metadata": {},
   "outputs": [
    {
     "data": {
      "text/plain": [
       "array([1., 2., 7., 4., 0.])"
      ]
     },
     "execution_count": 29,
     "metadata": {},
     "output_type": "execute_result"
    }
   ],
   "source": [
    "arr[np.logical_not(np.isnan(arr))]"
   ]
  },
  {
   "cell_type": "code",
   "execution_count": 34,
   "metadata": {},
   "outputs": [
    {
     "data": {
      "text/plain": [
       "array([1., 2., 7., 4., 0.])"
      ]
     },
     "execution_count": 34,
     "metadata": {},
     "output_type": "execute_result"
    }
   ],
   "source": [
    "arr[np.isfinite(arr)]"
   ]
  },
  {
   "cell_type": "code",
   "execution_count": 39,
   "metadata": {},
   "outputs": [
    {
     "name": "stdout",
     "output_type": "stream",
     "text": [
      "original: [67.  2. nan  7.  4.  0.]\n",
      "copia: [67.  2. nan  7.  4.  0.]\n",
      "vista: [67.  2. nan  7.  4.  0.]\n",
      "original: [67.  2. nan  7.  4.  0.]\n",
      "copia: [67.  2. nan  7.  4.  0.]\n",
      "vista: [67.  2. nan  7.  4.  0.]\n"
     ]
    }
   ],
   "source": [
    "copia = arr.copy()\n",
    "vista = arr.view()\n",
    "\n",
    "print('original:',arr)\n",
    "print('copia:',copia)\n",
    "print('vista:',vista)\n",
    "\n",
    "arr[0] = 67\n",
    "\n",
    "print('original:',arr)\n",
    "print('copia:',copia)\n",
    "print('vista:',vista)\n"
   ]
  }
 ],
 "metadata": {
  "kernelspec": {
   "display_name": "Python 3.10 - SDK v2",
   "language": "python",
   "name": "python310-sdkv2"
  },
  "language_info": {
   "codemirror_mode": {
    "name": "ipython",
    "version": 3
   },
   "file_extension": ".py",
   "mimetype": "text/x-python",
   "name": "python",
   "nbconvert_exporter": "python",
   "pygments_lexer": "ipython3",
   "version": "3.10.14"
  }
 },
 "nbformat": 4,
 "nbformat_minor": 2
}
