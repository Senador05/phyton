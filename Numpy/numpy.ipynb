{
 "cells": [
  {
   "cell_type": "code",
   "execution_count": 6,
   "metadata": {},
   "outputs": [],
   "source": [
    "import numpy as np\n"
   ]
  },
  {
   "cell_type": "code",
   "execution_count": 7,
   "metadata": {},
   "outputs": [
    {
     "data": {
      "text/plain": [
       "<module 'numpy' from '/anaconda/envs/azureml_py38/lib/python3.10/site-packages/numpy/__init__.py'>"
      ]
     },
     "execution_count": 7,
     "metadata": {},
     "output_type": "execute_result"
    }
   ],
   "source": []
  },
  {
   "cell_type": "code",
   "execution_count": 8,
   "metadata": {},
   "outputs": [
    {
     "name": "stdout",
     "output_type": "stream",
     "text": [
      "[1 2 3]\n"
     ]
    }
   ],
   "source": [
    "a1 = np.array([1,2,3])\n",
    "print(a1)"
   ]
  },
  {
   "cell_type": "code",
   "execution_count": 9,
   "metadata": {},
   "outputs": [
    {
     "data": {
      "text/plain": [
       "array([[1, 2, 3],\n",
       "       [4, 5, 6]])"
      ]
     },
     "execution_count": 9,
     "metadata": {},
     "output_type": "execute_result"
    }
   ],
   "source": [
    "a2 = np.array([[1,2,3],[4,5,6]])\n",
    "a2"
   ]
  },
  {
   "cell_type": "code",
   "execution_count": 16,
   "metadata": {},
   "outputs": [
    {
     "data": {
      "text/plain": [
       "array([[[ 1,  2,  3],\n",
       "        [ 3,  4,  5]],\n",
       "\n",
       "       [[ 9, 10, 11],\n",
       "        [12, 13, 14]],\n",
       "\n",
       "       [[15, 16, 17],\n",
       "        [18, 19, 20]]])"
      ]
     },
     "execution_count": 16,
     "metadata": {},
     "output_type": "execute_result"
    }
   ],
   "source": [
    "a3 = np.array([[[1,2,3],[3,4,5]],[[9,10,11],[12,13,14]],[[15,16,17],[18,19,20]]])\n",
    "a3"
   ]
  },
  {
   "cell_type": "code",
   "execution_count": 14,
   "metadata": {},
   "outputs": [
    {
     "data": {
      "text/plain": [
       "2"
      ]
     },
     "execution_count": 14,
     "metadata": {},
     "output_type": "execute_result"
    }
   ],
   "source": [
    "a1[1]\n"
   ]
  },
  {
   "cell_type": "code",
   "execution_count": 15,
   "metadata": {},
   "outputs": [
    {
     "data": {
      "text/plain": [
       "6"
      ]
     },
     "execution_count": 15,
     "metadata": {},
     "output_type": "execute_result"
    }
   ],
   "source": [
    "a2[1, 2]"
   ]
  },
  {
   "cell_type": "code",
   "execution_count": 23,
   "metadata": {},
   "outputs": [
    {
     "data": {
      "text/plain": [
       "10"
      ]
     },
     "execution_count": 23,
     "metadata": {},
     "output_type": "execute_result"
    }
   ],
   "source": [
    "a3[1, 0, 1]"
   ]
  },
  {
   "cell_type": "code",
   "execution_count": 27,
   "metadata": {},
   "outputs": [
    {
     "data": {
      "text/plain": [
       "array([[4.64220544e-310, 0.00000000e+000, 0.00000000e+000],\n",
       "       [0.00000000e+000, 1.12465777e-312, 6.87527785e-038],\n",
       "       [2.93003191e-057, 3.89051422e-033, 4.08342094e+179],\n",
       "       [6.95355619e-042, 6.03369119e+174, 1.58906535e-047]])"
      ]
     },
     "execution_count": 27,
     "metadata": {},
     "output_type": "execute_result"
    }
   ],
   "source": [
    "av = np.empty([4,3])\n",
    "av"
   ]
  },
  {
   "cell_type": "code",
   "execution_count": 28,
   "metadata": {},
   "outputs": [
    {
     "data": {
      "text/plain": [
       "array([[0., 0., 0., 0., 0.],\n",
       "       [0., 0., 0., 0., 0.],\n",
       "       [0., 0., 0., 0., 0.]])"
      ]
     },
     "execution_count": 28,
     "metadata": {},
     "output_type": "execute_result"
    }
   ],
   "source": [
    "az = np.zeros([3,5])\n",
    "az"
   ]
  },
  {
   "cell_type": "code",
   "execution_count": 29,
   "metadata": {},
   "outputs": [
    {
     "data": {
      "text/plain": [
       "array([[1., 1., 1., 1., 1.],\n",
       "       [1., 1., 1., 1., 1.],\n",
       "       [1., 1., 1., 1., 1.]])"
      ]
     },
     "execution_count": 29,
     "metadata": {},
     "output_type": "execute_result"
    }
   ],
   "source": [
    "ao = np.ones([3,5])\n",
    "ao"
   ]
  },
  {
   "cell_type": "code",
   "execution_count": 32,
   "metadata": {},
   "outputs": [
    {
     "data": {
      "text/plain": [
       "array([[9, 9, 9, 9, 9],\n",
       "       [9, 9, 9, 9, 9],\n",
       "       [9, 9, 9, 9, 9]])"
      ]
     },
     "execution_count": 32,
     "metadata": {},
     "output_type": "execute_result"
    }
   ],
   "source": [
    "af = np.full([3,5],9)\n",
    "af"
   ]
  },
  {
   "cell_type": "code",
   "execution_count": 36,
   "metadata": {},
   "outputs": [
    {
     "data": {
      "text/plain": [
       "array([[1., 0., 0., 0., 0.],\n",
       "       [0., 1., 0., 0., 0.],\n",
       "       [0., 0., 1., 0., 0.],\n",
       "       [0., 0., 0., 1., 0.],\n",
       "       [0., 0., 0., 0., 1.]])"
      ]
     },
     "execution_count": 36,
     "metadata": {},
     "output_type": "execute_result"
    }
   ],
   "source": [
    "ai = np.identity(5)\n",
    "ai"
   ]
  },
  {
   "cell_type": "code",
   "execution_count": 37,
   "metadata": {},
   "outputs": [
    {
     "name": "stdout",
     "output_type": "stream",
     "text": [
      "arange([start,] stop[, step,], dtype=None, *, like=None)\n",
      "\n",
      "Return evenly spaced values within a given interval.\n",
      "\n",
      "``arange`` can be called with a varying number of positional arguments:\n",
      "\n",
      "* ``arange(stop)``: Values are generated within the half-open interval\n",
      "  ``[0, stop)`` (in other words, the interval including `start` but\n",
      "  excluding `stop`).\n",
      "* ``arange(start, stop)``: Values are generated within the half-open\n",
      "  interval ``[start, stop)``.\n",
      "* ``arange(start, stop, step)`` Values are generated within the half-open\n",
      "  interval ``[start, stop)``, with spacing between values given by\n",
      "  ``step``.\n",
      "\n",
      "For integer arguments the function is roughly equivalent to the Python\n",
      "built-in :py:class:`range`, but returns an ndarray rather than a ``range``\n",
      "instance.\n",
      "\n",
      "When using a non-integer step, such as 0.1, it is often better to use\n",
      "`numpy.linspace`.\n",
      "\n",
      "See the Warning sections below for more information.\n",
      "\n",
      "Parameters\n",
      "----------\n",
      "start : integer or real, optional\n",
      "    Start of interval.  The interval includes this value.  The default\n",
      "    start value is 0.\n",
      "stop : integer or real\n",
      "    End of interval.  The interval does not include this value, except\n",
      "    in some cases where `step` is not an integer and floating point\n",
      "    round-off affects the length of `out`.\n",
      "step : integer or real, optional\n",
      "    Spacing between values.  For any output `out`, this is the distance\n",
      "    between two adjacent values, ``out[i+1] - out[i]``.  The default\n",
      "    step size is 1.  If `step` is specified as a position argument,\n",
      "    `start` must also be given.\n",
      "dtype : dtype, optional\n",
      "    The type of the output array.  If `dtype` is not given, infer the data\n",
      "    type from the other input arguments.\n",
      "like : array_like, optional\n",
      "    Reference object to allow the creation of arrays which are not\n",
      "    NumPy arrays. If an array-like passed in as ``like`` supports\n",
      "    the ``__array_function__`` protocol, the result will be defined\n",
      "    by it. In this case, it ensures the creation of an array object\n",
      "    compatible with that passed in via this argument.\n",
      "\n",
      "    .. versionadded:: 1.20.0\n",
      "\n",
      "Returns\n",
      "-------\n",
      "arange : ndarray\n",
      "    Array of evenly spaced values.\n",
      "\n",
      "    For floating point arguments, the length of the result is\n",
      "    ``ceil((stop - start)/step)``.  Because of floating point overflow,\n",
      "    this rule may result in the last element of `out` being greater\n",
      "    than `stop`.\n",
      "\n",
      "Warnings\n",
      "--------\n",
      "The length of the output might not be numerically stable.\n",
      "\n",
      "Another stability issue is due to the internal implementation of\n",
      "`numpy.arange`.\n",
      "The actual step value used to populate the array is\n",
      "``dtype(start + step) - dtype(start)`` and not `step`. Precision loss\n",
      "can occur here, due to casting or due to using floating points when\n",
      "`start` is much larger than `step`. This can lead to unexpected\n",
      "behaviour. For example::\n",
      "\n",
      "  >>> np.arange(0, 5, 0.5, dtype=int)\n",
      "  array([0, 0, 0, 0, 0, 0, 0, 0, 0, 0])\n",
      "  >>> np.arange(-3, 3, 0.5, dtype=int)\n",
      "  array([-3, -2, -1,  0,  1,  2,  3,  4,  5,  6,  7,  8])\n",
      "\n",
      "In such cases, the use of `numpy.linspace` should be preferred.\n",
      "\n",
      "The built-in :py:class:`range` generates :std:doc:`Python built-in integers\n",
      "that have arbitrary size <c-api/long>`, while `numpy.arange` produces\n",
      "`numpy.int32` or `numpy.int64` numbers. This may result in incorrect\n",
      "results for large integer values::\n",
      "\n",
      "  >>> power = 40\n",
      "  >>> modulo = 10000\n",
      "  >>> x1 = [(n ** power) % modulo for n in range(8)]\n",
      "  >>> x2 = [(n ** power) % modulo for n in np.arange(8)]\n",
      "  >>> print(x1)\n",
      "  [0, 1, 7776, 8801, 6176, 625, 6576, 4001]  # correct\n",
      "  >>> print(x2)\n",
      "  [0, 1, 7776, 7185, 0, 5969, 4816, 3361]  # incorrect\n",
      "\n",
      "See Also\n",
      "--------\n",
      "numpy.linspace : Evenly spaced numbers with careful handling of endpoints.\n",
      "numpy.ogrid: Arrays of evenly spaced numbers in N-dimensions.\n",
      "numpy.mgrid: Grid-shaped arrays of evenly spaced numbers in N-dimensions.\n",
      "\n",
      "Examples\n",
      "--------\n",
      ">>> np.arange(3)\n",
      "array([0, 1, 2])\n",
      ">>> np.arange(3.0)\n",
      "array([ 0.,  1.,  2.])\n",
      ">>> np.arange(3,7)\n",
      "array([3, 4, 5, 6])\n",
      ">>> np.arange(3,7,2)\n",
      "array([3, 5])\n"
     ]
    }
   ],
   "source": [
    "np.info(np.arange)"
   ]
  },
  {
   "cell_type": "code",
   "execution_count": 40,
   "metadata": {},
   "outputs": [
    {
     "data": {
      "text/plain": [
       "array([1, 3, 5, 7, 9])"
      ]
     },
     "execution_count": 40,
     "metadata": {},
     "output_type": "execute_result"
    }
   ],
   "source": [
    "ar = np.arange(1,10,2)\n",
    "ar"
   ]
  },
  {
   "cell_type": "code",
   "execution_count": 41,
   "metadata": {},
   "outputs": [
    {
     "name": "stdout",
     "output_type": "stream",
     "text": [
      " linspace(start, stop, num=50, endpoint=True, retstep=False, dtype=None,\n",
      "          axis=0)\n",
      "\n",
      "Return evenly spaced numbers over a specified interval.\n",
      "\n",
      "Returns `num` evenly spaced samples, calculated over the\n",
      "interval [`start`, `stop`].\n",
      "\n",
      "The endpoint of the interval can optionally be excluded.\n",
      "\n",
      ".. versionchanged:: 1.16.0\n",
      "    Non-scalar `start` and `stop` are now supported.\n",
      "\n",
      ".. versionchanged:: 1.20.0\n",
      "    Values are rounded towards ``-inf`` instead of ``0`` when an\n",
      "    integer ``dtype`` is specified. The old behavior can\n",
      "    still be obtained with ``np.linspace(start, stop, num).astype(int)``\n",
      "\n",
      "Parameters\n",
      "----------\n",
      "start : array_like\n",
      "    The starting value of the sequence.\n",
      "stop : array_like\n",
      "    The end value of the sequence, unless `endpoint` is set to False.\n",
      "    In that case, the sequence consists of all but the last of ``num + 1``\n",
      "    evenly spaced samples, so that `stop` is excluded.  Note that the step\n",
      "    size changes when `endpoint` is False.\n",
      "num : int, optional\n",
      "    Number of samples to generate. Default is 50. Must be non-negative.\n",
      "endpoint : bool, optional\n",
      "    If True, `stop` is the last sample. Otherwise, it is not included.\n",
      "    Default is True.\n",
      "retstep : bool, optional\n",
      "    If True, return (`samples`, `step`), where `step` is the spacing\n",
      "    between samples.\n",
      "dtype : dtype, optional\n",
      "    The type of the output array.  If `dtype` is not given, the data type\n",
      "    is inferred from `start` and `stop`. The inferred dtype will never be\n",
      "    an integer; `float` is chosen even if the arguments would produce an\n",
      "    array of integers.\n",
      "\n",
      "    .. versionadded:: 1.9.0\n",
      "\n",
      "axis : int, optional\n",
      "    The axis in the result to store the samples.  Relevant only if start\n",
      "    or stop are array-like.  By default (0), the samples will be along a\n",
      "    new axis inserted at the beginning. Use -1 to get an axis at the end.\n",
      "\n",
      "    .. versionadded:: 1.16.0\n",
      "\n",
      "Returns\n",
      "-------\n",
      "samples : ndarray\n",
      "    There are `num` equally spaced samples in the closed interval\n",
      "    ``[start, stop]`` or the half-open interval ``[start, stop)``\n",
      "    (depending on whether `endpoint` is True or False).\n",
      "step : float, optional\n",
      "    Only returned if `retstep` is True\n",
      "\n",
      "    Size of spacing between samples.\n",
      "\n",
      "\n",
      "See Also\n",
      "--------\n",
      "arange : Similar to `linspace`, but uses a step size (instead of the\n",
      "         number of samples).\n",
      "geomspace : Similar to `linspace`, but with numbers spaced evenly on a log\n",
      "            scale (a geometric progression).\n",
      "logspace : Similar to `geomspace`, but with the end points specified as\n",
      "           logarithms.\n",
      "\n",
      "Examples\n",
      "--------\n",
      ">>> np.linspace(2.0, 3.0, num=5)\n",
      "array([2.  , 2.25, 2.5 , 2.75, 3.  ])\n",
      ">>> np.linspace(2.0, 3.0, num=5, endpoint=False)\n",
      "array([2. ,  2.2,  2.4,  2.6,  2.8])\n",
      ">>> np.linspace(2.0, 3.0, num=5, retstep=True)\n",
      "(array([2.  ,  2.25,  2.5 ,  2.75,  3.  ]), 0.25)\n",
      "\n",
      "Graphical illustration:\n",
      "\n",
      ">>> import matplotlib.pyplot as plt\n",
      ">>> N = 8\n",
      ">>> y = np.zeros(N)\n",
      ">>> x1 = np.linspace(0, 10, N, endpoint=True)\n",
      ">>> x2 = np.linspace(0, 10, N, endpoint=False)\n",
      ">>> plt.plot(x1, y, 'o')\n",
      "[<matplotlib.lines.Line2D object at 0x...>]\n",
      ">>> plt.plot(x2, y + 0.5, 'o')\n",
      "[<matplotlib.lines.Line2D object at 0x...>]\n",
      ">>> plt.ylim([-0.5, 1])\n",
      "(-0.5, 1)\n",
      ">>> plt.show()\n"
     ]
    }
   ],
   "source": [
    "np.info(np.linspace)"
   ]
  },
  {
   "cell_type": "code",
   "execution_count": 47,
   "metadata": {},
   "outputs": [
    {
     "data": {
      "text/plain": [
       "array([  1.        ,   6.21052632,  11.42105263,  16.63157895,\n",
       "        21.84210526,  27.05263158,  32.26315789,  37.47368421,\n",
       "        42.68421053,  47.89473684,  53.10526316,  58.31578947,\n",
       "        63.52631579,  68.73684211,  73.94736842,  79.15789474,\n",
       "        84.36842105,  89.57894737,  94.78947368, 100.        ])"
      ]
     },
     "execution_count": 47,
     "metadata": {},
     "output_type": "execute_result"
    }
   ],
   "source": [
    "al = np.linspace(1,100,20)\n",
    "al"
   ]
  },
  {
   "cell_type": "code",
   "execution_count": 67,
   "metadata": {},
   "outputs": [
    {
     "data": {
      "text/plain": [
       "array([[0.22512813, 0.47442801, 0.38031336],\n",
       "       [0.00297202, 0.58192889, 0.66916528]])"
      ]
     },
     "execution_count": 67,
     "metadata": {},
     "output_type": "execute_result"
    }
   ],
   "source": [
    "aran = np.random.random([2, 3])\n",
    "aran"
   ]
  },
  {
   "cell_type": "code",
   "execution_count": 51,
   "metadata": {},
   "outputs": [
    {
     "data": {
      "text/plain": [
       "2"
      ]
     },
     "execution_count": 51,
     "metadata": {},
     "output_type": "execute_result"
    }
   ],
   "source": [
    "aran.ndim"
   ]
  },
  {
   "cell_type": "code",
   "execution_count": 52,
   "metadata": {},
   "outputs": [
    {
     "data": {
      "text/plain": [
       "(2, 3)"
      ]
     },
     "execution_count": 52,
     "metadata": {},
     "output_type": "execute_result"
    }
   ],
   "source": [
    "aran.shape"
   ]
  },
  {
   "cell_type": "code",
   "execution_count": 53,
   "metadata": {},
   "outputs": [
    {
     "data": {
      "text/plain": [
       "6"
      ]
     },
     "execution_count": 53,
     "metadata": {},
     "output_type": "execute_result"
    }
   ],
   "source": [
    "aran.size"
   ]
  },
  {
   "cell_type": "code",
   "execution_count": 54,
   "metadata": {},
   "outputs": [
    {
     "data": {
      "text/plain": [
       "dtype('float64')"
      ]
     },
     "execution_count": 54,
     "metadata": {},
     "output_type": "execute_result"
    }
   ],
   "source": [
    "aran.dtype"
   ]
  },
  {
   "cell_type": "code",
   "execution_count": 58,
   "metadata": {},
   "outputs": [
    {
     "data": {
      "text/plain": [
       "array(['hola', 'mundo'], dtype='<U5')"
      ]
     },
     "execution_count": 58,
     "metadata": {},
     "output_type": "execute_result"
    }
   ],
   "source": [
    "at = np.array(['hola','mundo'])\n",
    "at"
   ]
  },
  {
   "cell_type": "code",
   "execution_count": 59,
   "metadata": {},
   "outputs": [
    {
     "data": {
      "text/plain": [
       "array([  1.        ,   6.21052632,  11.42105263,  16.63157895,\n",
       "        21.84210526,  27.05263158,  32.26315789,  37.47368421,\n",
       "        42.68421053,  47.89473684,  53.10526316,  58.31578947,\n",
       "        63.52631579,  68.73684211,  73.94736842,  79.15789474,\n",
       "        84.36842105,  89.57894737,  94.78947368, 100.        ])"
      ]
     },
     "execution_count": 59,
     "metadata": {},
     "output_type": "execute_result"
    }
   ],
   "source": [
    "al"
   ]
  },
  {
   "cell_type": "code",
   "execution_count": 60,
   "metadata": {},
   "outputs": [
    {
     "name": "stdout",
     "output_type": "stream",
     "text": [
      "a.astype(dtype, order='K', casting='unsafe', subok=True, copy=True)\n",
      "\n",
      "Copy of the array, cast to a specified type.\n",
      "\n",
      "Parameters\n",
      "----------\n",
      "dtype : str or dtype\n",
      "    Typecode or data-type to which the array is cast.\n",
      "order : {'C', 'F', 'A', 'K'}, optional\n",
      "    Controls the memory layout order of the result.\n",
      "    'C' means C order, 'F' means Fortran order, 'A'\n",
      "    means 'F' order if all the arrays are Fortran contiguous,\n",
      "    'C' order otherwise, and 'K' means as close to the\n",
      "    order the array elements appear in memory as possible.\n",
      "    Default is 'K'.\n",
      "casting : {'no', 'equiv', 'safe', 'same_kind', 'unsafe'}, optional\n",
      "    Controls what kind of data casting may occur. Defaults to 'unsafe'\n",
      "    for backwards compatibility.\n",
      "\n",
      "      * 'no' means the data types should not be cast at all.\n",
      "      * 'equiv' means only byte-order changes are allowed.\n",
      "      * 'safe' means only casts which can preserve values are allowed.\n",
      "      * 'same_kind' means only safe casts or casts within a kind,\n",
      "        like float64 to float32, are allowed.\n",
      "      * 'unsafe' means any data conversions may be done.\n",
      "subok : bool, optional\n",
      "    If True, then sub-classes will be passed-through (default), otherwise\n",
      "    the returned array will be forced to be a base-class array.\n",
      "copy : bool, optional\n",
      "    By default, astype always returns a newly allocated array. If this\n",
      "    is set to false, and the `dtype`, `order`, and `subok`\n",
      "    requirements are satisfied, the input array is returned instead\n",
      "    of a copy.\n",
      "\n",
      "Returns\n",
      "-------\n",
      "arr_t : ndarray\n",
      "    Unless `copy` is False and the other conditions for returning the input\n",
      "    array are satisfied (see description for `copy` input parameter), `arr_t`\n",
      "    is a new array of the same shape as the input array, with dtype, order\n",
      "    given by `dtype`, `order`.\n",
      "\n",
      "Notes\n",
      "-----\n",
      ".. versionchanged:: 1.17.0\n",
      "   Casting between a simple data type and a structured one is possible only\n",
      "   for \"unsafe\" casting.  Casting to multiple fields is allowed, but\n",
      "   casting from multiple fields is not.\n",
      "\n",
      ".. versionchanged:: 1.9.0\n",
      "   Casting from numeric to string types in 'safe' casting mode requires\n",
      "   that the string dtype length is long enough to store the max\n",
      "   integer/float value converted.\n",
      "\n",
      "Raises\n",
      "------\n",
      "ComplexWarning\n",
      "    When casting from complex to float or int. To avoid this,\n",
      "    one should use ``a.real.astype(t)``.\n",
      "\n",
      "Examples\n",
      "--------\n",
      ">>> x = np.array([1, 2, 2.5])\n",
      ">>> x\n",
      "array([1. ,  2. ,  2.5])\n",
      "\n",
      ">>> x.astype(int)\n",
      "array([1, 2, 2])\n"
     ]
    }
   ],
   "source": [
    "np.info(al.astype)"
   ]
  },
  {
   "cell_type": "code",
   "execution_count": 68,
   "metadata": {},
   "outputs": [
    {
     "data": {
      "text/plain": [
       "array([  1,   6,  11,  16,  21,  27,  32,  37,  42,  47,  53,  58,  63,\n",
       "        68,  73,  79,  84,  89,  94, 100], dtype=int32)"
      ]
     },
     "execution_count": 68,
     "metadata": {},
     "output_type": "execute_result"
    }
   ],
   "source": [
    "al.astype('i')"
   ]
  },
  {
   "cell_type": "code",
   "execution_count": 69,
   "metadata": {},
   "outputs": [
    {
     "data": {
      "text/plain": [
       "array([[0.22512813, 0.47442801, 0.38031336],\n",
       "       [0.00297202, 0.58192889, 0.66916528]])"
      ]
     },
     "execution_count": 69,
     "metadata": {},
     "output_type": "execute_result"
    }
   ],
   "source": [
    "aran"
   ]
  },
  {
   "cell_type": "code",
   "execution_count": 70,
   "metadata": {},
   "outputs": [
    {
     "data": {
      "text/plain": [
       "array([[0.22512813, 0.38031336, 0.47442801],\n",
       "       [0.00297202, 0.58192889, 0.66916528]])"
      ]
     },
     "execution_count": 70,
     "metadata": {},
     "output_type": "execute_result"
    }
   ],
   "source": [
    "np.sort(aran)"
   ]
  },
  {
   "cell_type": "code",
   "execution_count": 71,
   "metadata": {},
   "outputs": [
    {
     "data": {
      "text/plain": [
       "array([[0.00297202, 0.47442801, 0.38031336],\n",
       "       [0.22512813, 0.58192889, 0.66916528]])"
      ]
     },
     "execution_count": 71,
     "metadata": {},
     "output_type": "execute_result"
    }
   ],
   "source": [
    "np.sort(aran,0)"
   ]
  },
  {
   "cell_type": "code",
   "execution_count": 76,
   "metadata": {},
   "outputs": [],
   "source": [
    "arr = np.array([2, 4, 5, 0, 6, 1, 5, 4, 1, -3])"
   ]
  },
  {
   "cell_type": "code",
   "execution_count": 77,
   "metadata": {},
   "outputs": [
    {
     "data": {
      "text/plain": [
       "-3"
      ]
     },
     "execution_count": 77,
     "metadata": {},
     "output_type": "execute_result"
    }
   ],
   "source": [
    "np.min(arr)"
   ]
  },
  {
   "cell_type": "code",
   "execution_count": 78,
   "metadata": {},
   "outputs": [
    {
     "data": {
      "text/plain": [
       "6"
      ]
     },
     "execution_count": 78,
     "metadata": {},
     "output_type": "execute_result"
    }
   ],
   "source": [
    "np.max(arr)"
   ]
  },
  {
   "cell_type": "code",
   "execution_count": 79,
   "metadata": {},
   "outputs": [
    {
     "data": {
      "text/plain": [
       "2.5"
      ]
     },
     "execution_count": 79,
     "metadata": {},
     "output_type": "execute_result"
    }
   ],
   "source": [
    "np.mean(arr)"
   ]
  },
  {
   "cell_type": "code",
   "execution_count": 80,
   "metadata": {},
   "outputs": [
    {
     "data": {
      "text/plain": [
       "3.0"
      ]
     },
     "execution_count": 80,
     "metadata": {},
     "output_type": "execute_result"
    }
   ],
   "source": [
    "np.median(arr)"
   ]
  },
  {
   "cell_type": "code",
   "execution_count": 81,
   "metadata": {},
   "outputs": [
    {
     "data": {
      "text/plain": [
       "2.6551836094703507"
      ]
     },
     "execution_count": 81,
     "metadata": {},
     "output_type": "execute_result"
    }
   ],
   "source": [
    "np.std(arr)"
   ]
  },
  {
   "cell_type": "code",
   "execution_count": 82,
   "metadata": {},
   "outputs": [
    {
     "data": {
      "text/plain": [
       "array([2, 4, 5, 0, 6, 1, 5, 4, 1, 3])"
      ]
     },
     "execution_count": 82,
     "metadata": {},
     "output_type": "execute_result"
    }
   ],
   "source": [
    "np.absolute(arr)"
   ]
  },
  {
   "cell_type": "code",
   "execution_count": 83,
   "metadata": {},
   "outputs": [
    {
     "data": {
      "text/plain": [
       "array([2, 4, 5, 0, 6, 1, 5, 4, 1, 3])"
      ]
     },
     "execution_count": 83,
     "metadata": {},
     "output_type": "execute_result"
    }
   ],
   "source": [
    "np.abs(arr)"
   ]
  },
  {
   "cell_type": "code",
   "execution_count": 84,
   "metadata": {},
   "outputs": [
    {
     "data": {
      "text/plain": [
       "array([ 2,  6, 11, 11, 17, 18, 23, 27, 28, 25])"
      ]
     },
     "execution_count": 84,
     "metadata": {},
     "output_type": "execute_result"
    }
   ],
   "source": [
    "np.cumsum(arr)"
   ]
  },
  {
   "cell_type": "code",
   "execution_count": 85,
   "metadata": {},
   "outputs": [
    {
     "data": {
      "text/plain": [
       "array([-3,  0,  1,  2,  4,  5,  6])"
      ]
     },
     "execution_count": 85,
     "metadata": {},
     "output_type": "execute_result"
    }
   ],
   "source": [
    "np.unique(arr)"
   ]
  },
  {
   "cell_type": "code",
   "execution_count": 86,
   "metadata": {},
   "outputs": [
    {
     "data": {
      "text/plain": [
       "array([7.38905610e+00, 5.45981500e+01, 1.48413159e+02, 1.00000000e+00,\n",
       "       4.03428793e+02, 2.71828183e+00, 1.48413159e+02, 5.45981500e+01,\n",
       "       2.71828183e+00, 4.97870684e-02])"
      ]
     },
     "execution_count": 86,
     "metadata": {},
     "output_type": "execute_result"
    }
   ],
   "source": [
    "np.exp(arr)"
   ]
  },
  {
   "cell_type": "code",
   "execution_count": 87,
   "metadata": {},
   "outputs": [
    {
     "data": {
      "text/plain": [
       "0"
      ]
     },
     "execution_count": 87,
     "metadata": {},
     "output_type": "execute_result"
    }
   ],
   "source": [
    "np.prod(arr)"
   ]
  },
  {
   "cell_type": "code",
   "execution_count": 92,
   "metadata": {},
   "outputs": [
    {
     "name": "stdout",
     "output_type": "stream",
     "text": [
      "2\n",
      "4\n",
      "5\n",
      "0\n",
      "6\n",
      "1\n",
      "5\n",
      "4\n",
      "1\n",
      "-3\n"
     ]
    }
   ],
   "source": [
    "for x in arr:\n",
    "    print(x)"
   ]
  },
  {
   "cell_type": "code",
   "execution_count": 94,
   "metadata": {},
   "outputs": [
    {
     "name": "stdout",
     "output_type": "stream",
     "text": [
      "0 2\n",
      "1 4\n",
      "2 5\n",
      "3 0\n",
      "4 6\n",
      "5 1\n",
      "6 5\n",
      "7 4\n",
      "8 1\n",
      "9 -3\n"
     ]
    }
   ],
   "source": [
    "for i in range(len(arr)):\n",
    "    print(i, arr[i])"
   ]
  },
  {
   "cell_type": "code",
   "execution_count": 99,
   "metadata": {},
   "outputs": [
    {
     "data": {
      "text/plain": [
       "array([[0.22512813, 0.47442801, 0.38031336],\n",
       "       [0.00297202, 0.58192889, 0.66916528]])"
      ]
     },
     "execution_count": 99,
     "metadata": {},
     "output_type": "execute_result"
    }
   ],
   "source": [
    "aran"
   ]
  },
  {
   "cell_type": "code",
   "execution_count": 101,
   "metadata": {},
   "outputs": [
    {
     "name": "stdout",
     "output_type": "stream",
     "text": [
      "0.22512813150915834\n",
      "0.47442801124067524\n",
      "0.38031335984143333\n",
      "0.0029720240788529972\n",
      "0.5819288904428035\n",
      "0.6691652811259596\n"
     ]
    }
   ],
   "source": [
    "for x in aran:\n",
    "    for y in x:\n",
    "        print(y)"
   ]
  },
  {
   "cell_type": "code",
   "execution_count": 107,
   "metadata": {},
   "outputs": [
    {
     "data": {
      "text/plain": [
       "array([[[ 1,  2,  3],\n",
       "        [ 3,  4,  5]],\n",
       "\n",
       "       [[ 9, 10, 11],\n",
       "        [12, 13, 14]],\n",
       "\n",
       "       [[15, 16, 17],\n",
       "        [18, 19, 20]]])"
      ]
     },
     "execution_count": 107,
     "metadata": {},
     "output_type": "execute_result"
    }
   ],
   "source": [
    "a3"
   ]
  },
  {
   "cell_type": "code",
   "execution_count": 104,
   "metadata": {},
   "outputs": [
    {
     "name": "stdout",
     "output_type": "stream",
     "text": [
      "1\n",
      "2\n",
      "3\n",
      "3\n",
      "4\n",
      "5\n",
      "9\n",
      "10\n",
      "11\n",
      "12\n",
      "13\n",
      "14\n",
      "15\n",
      "16\n",
      "17\n",
      "18\n",
      "19\n",
      "20\n"
     ]
    }
   ],
   "source": [
    "for x in a3:\n",
    "    for y in x:\n",
    "        for z in y:\n",
    "         print(z)"
   ]
  },
  {
   "cell_type": "code",
   "execution_count": 105,
   "metadata": {},
   "outputs": [
    {
     "name": "stdout",
     "output_type": "stream",
     "text": [
      " nditer()\n",
      "\n",
      "nditer(op, flags=None, op_flags=None, op_dtypes=None, order='K', casting='safe', op_axes=None, itershape=None, buffersize=0)\n",
      "\n",
      "Efficient multi-dimensional iterator object to iterate over arrays.\n",
      "To get started using this object, see the\n",
      ":ref:`introductory guide to array iteration <arrays.nditer>`.\n",
      "\n",
      "Parameters\n",
      "----------\n",
      "op : ndarray or sequence of array_like\n",
      "    The array(s) to iterate over.\n",
      "\n",
      "flags : sequence of str, optional\n",
      "      Flags to control the behavior of the iterator.\n",
      "\n",
      "      * ``buffered`` enables buffering when required.\n",
      "      * ``c_index`` causes a C-order index to be tracked.\n",
      "      * ``f_index`` causes a Fortran-order index to be tracked.\n",
      "      * ``multi_index`` causes a multi-index, or a tuple of indices\n",
      "        with one per iteration dimension, to be tracked.\n",
      "      * ``common_dtype`` causes all the operands to be converted to\n",
      "        a common data type, with copying or buffering as necessary.\n",
      "      * ``copy_if_overlap`` causes the iterator to determine if read\n",
      "        operands have overlap with write operands, and make temporary\n",
      "        copies as necessary to avoid overlap. False positives (needless\n",
      "        copying) are possible in some cases.\n",
      "      * ``delay_bufalloc`` delays allocation of the buffers until\n",
      "        a reset() call is made. Allows ``allocate`` operands to\n",
      "        be initialized before their values are copied into the buffers.\n",
      "      * ``external_loop`` causes the ``values`` given to be\n",
      "        one-dimensional arrays with multiple values instead of\n",
      "        zero-dimensional arrays.\n",
      "      * ``grow_inner`` allows the ``value`` array sizes to be made\n",
      "        larger than the buffer size when both ``buffered`` and\n",
      "        ``external_loop`` is used.\n",
      "      * ``ranged`` allows the iterator to be restricted to a sub-range\n",
      "        of the iterindex values.\n",
      "      * ``refs_ok`` enables iteration of reference types, such as\n",
      "        object arrays.\n",
      "      * ``reduce_ok`` enables iteration of ``readwrite`` operands\n",
      "        which are broadcasted, also known as reduction operands.\n",
      "      * ``zerosize_ok`` allows `itersize` to be zero.\n",
      "op_flags : list of list of str, optional\n",
      "      This is a list of flags for each operand. At minimum, one of\n",
      "      ``readonly``, ``readwrite``, or ``writeonly`` must be specified.\n",
      "\n",
      "      * ``readonly`` indicates the operand will only be read from.\n",
      "      * ``readwrite`` indicates the operand will be read from and written to.\n",
      "      * ``writeonly`` indicates the operand will only be written to.\n",
      "      * ``no_broadcast`` prevents the operand from being broadcasted.\n",
      "      * ``contig`` forces the operand data to be contiguous.\n",
      "      * ``aligned`` forces the operand data to be aligned.\n",
      "      * ``nbo`` forces the operand data to be in native byte order.\n",
      "      * ``copy`` allows a temporary read-only copy if required.\n",
      "      * ``updateifcopy`` allows a temporary read-write copy if required.\n",
      "      * ``allocate`` causes the array to be allocated if it is None\n",
      "        in the ``op`` parameter.\n",
      "      * ``no_subtype`` prevents an ``allocate`` operand from using a subtype.\n",
      "      * ``arraymask`` indicates that this operand is the mask to use\n",
      "        for selecting elements when writing to operands with the\n",
      "        'writemasked' flag set. The iterator does not enforce this,\n",
      "        but when writing from a buffer back to the array, it only\n",
      "        copies those elements indicated by this mask.\n",
      "      * ``writemasked`` indicates that only elements where the chosen\n",
      "        ``arraymask`` operand is True will be written to.\n",
      "      * ``overlap_assume_elementwise`` can be used to mark operands that are\n",
      "        accessed only in the iterator order, to allow less conservative\n",
      "        copying when ``copy_if_overlap`` is present.\n",
      "op_dtypes : dtype or tuple of dtype(s), optional\n",
      "    The required data type(s) of the operands. If copying or buffering\n",
      "    is enabled, the data will be converted to/from their original types.\n",
      "order : {'C', 'F', 'A', 'K'}, optional\n",
      "    Controls the iteration order. 'C' means C order, 'F' means\n",
      "    Fortran order, 'A' means 'F' order if all the arrays are Fortran\n",
      "    contiguous, 'C' order otherwise, and 'K' means as close to the\n",
      "    order the array elements appear in memory as possible. This also\n",
      "    affects the element memory order of ``allocate`` operands, as they\n",
      "    are allocated to be compatible with iteration order.\n",
      "    Default is 'K'.\n",
      "casting : {'no', 'equiv', 'safe', 'same_kind', 'unsafe'}, optional\n",
      "    Controls what kind of data casting may occur when making a copy\n",
      "    or buffering.  Setting this to 'unsafe' is not recommended,\n",
      "    as it can adversely affect accumulations.\n",
      "\n",
      "    * 'no' means the data types should not be cast at all.\n",
      "    * 'equiv' means only byte-order changes are allowed.\n",
      "    * 'safe' means only casts which can preserve values are allowed.\n",
      "    * 'same_kind' means only safe casts or casts within a kind,\n",
      "      like float64 to float32, are allowed.\n",
      "    * 'unsafe' means any data conversions may be done.\n",
      "op_axes : list of list of ints, optional\n",
      "    If provided, is a list of ints or None for each operands.\n",
      "    The list of axes for an operand is a mapping from the dimensions\n",
      "    of the iterator to the dimensions of the operand. A value of\n",
      "    -1 can be placed for entries, causing that dimension to be\n",
      "    treated as `newaxis`.\n",
      "itershape : tuple of ints, optional\n",
      "    The desired shape of the iterator. This allows ``allocate`` operands\n",
      "    with a dimension mapped by op_axes not corresponding to a dimension\n",
      "    of a different operand to get a value not equal to 1 for that\n",
      "    dimension.\n",
      "buffersize : int, optional\n",
      "    When buffering is enabled, controls the size of the temporary\n",
      "    buffers. Set to 0 for the default value.\n",
      "\n",
      "Attributes\n",
      "----------\n",
      "dtypes : tuple of dtype(s)\n",
      "    The data types of the values provided in `value`. This may be\n",
      "    different from the operand data types if buffering is enabled.\n",
      "    Valid only before the iterator is closed.\n",
      "finished : bool\n",
      "    Whether the iteration over the operands is finished or not.\n",
      "has_delayed_bufalloc : bool\n",
      "    If True, the iterator was created with the ``delay_bufalloc`` flag,\n",
      "    and no reset() function was called on it yet.\n",
      "has_index : bool\n",
      "    If True, the iterator was created with either the ``c_index`` or\n",
      "    the ``f_index`` flag, and the property `index` can be used to\n",
      "    retrieve it.\n",
      "has_multi_index : bool\n",
      "    If True, the iterator was created with the ``multi_index`` flag,\n",
      "    and the property `multi_index` can be used to retrieve it.\n",
      "index\n",
      "    When the ``c_index`` or ``f_index`` flag was used, this property\n",
      "    provides access to the index. Raises a ValueError if accessed\n",
      "    and ``has_index`` is False.\n",
      "iterationneedsapi : bool\n",
      "    Whether iteration requires access to the Python API, for example\n",
      "    if one of the operands is an object array.\n",
      "iterindex : int\n",
      "    An index which matches the order of iteration.\n",
      "itersize : int\n",
      "    Size of the iterator.\n",
      "itviews\n",
      "    Structured view(s) of `operands` in memory, matching the reordered\n",
      "    and optimized iterator access pattern. Valid only before the iterator\n",
      "    is closed.\n",
      "multi_index\n",
      "    When the ``multi_index`` flag was used, this property\n",
      "    provides access to the index. Raises a ValueError if accessed\n",
      "    accessed and ``has_multi_index`` is False.\n",
      "ndim : int\n",
      "    The dimensions of the iterator.\n",
      "nop : int\n",
      "    The number of iterator operands.\n",
      "operands : tuple of operand(s)\n",
      "    The array(s) to be iterated over. Valid only before the iterator is\n",
      "    closed.\n",
      "shape : tuple of ints\n",
      "    Shape tuple, the shape of the iterator.\n",
      "value\n",
      "    Value of ``operands`` at current iteration. Normally, this is a\n",
      "    tuple of array scalars, but if the flag ``external_loop`` is used,\n",
      "    it is a tuple of one dimensional arrays.\n",
      "\n",
      "Notes\n",
      "-----\n",
      "`nditer` supersedes `flatiter`.  The iterator implementation behind\n",
      "`nditer` is also exposed by the NumPy C API.\n",
      "\n",
      "The Python exposure supplies two iteration interfaces, one which follows\n",
      "the Python iterator protocol, and another which mirrors the C-style\n",
      "do-while pattern.  The native Python approach is better in most cases, but\n",
      "if you need the coordinates or index of an iterator, use the C-style pattern.\n",
      "\n",
      "Examples\n",
      "--------\n",
      "Here is how we might write an ``iter_add`` function, using the\n",
      "Python iterator protocol:\n",
      "\n",
      ">>> def iter_add_py(x, y, out=None):\n",
      "...     addop = np.add\n",
      "...     it = np.nditer([x, y, out], [],\n",
      "...                 [['readonly'], ['readonly'], ['writeonly','allocate']])\n",
      "...     with it:\n",
      "...         for (a, b, c) in it:\n",
      "...             addop(a, b, out=c)\n",
      "...         return it.operands[2]\n",
      "\n",
      "Here is the same function, but following the C-style pattern:\n",
      "\n",
      ">>> def iter_add(x, y, out=None):\n",
      "...    addop = np.add\n",
      "...    it = np.nditer([x, y, out], [],\n",
      "...                [['readonly'], ['readonly'], ['writeonly','allocate']])\n",
      "...    with it:\n",
      "...        while not it.finished:\n",
      "...            addop(it[0], it[1], out=it[2])\n",
      "...            it.iternext()\n",
      "...        return it.operands[2]\n",
      "\n",
      "Here is an example outer product function:\n",
      "\n",
      ">>> def outer_it(x, y, out=None):\n",
      "...     mulop = np.multiply\n",
      "...     it = np.nditer([x, y, out], ['external_loop'],\n",
      "...             [['readonly'], ['readonly'], ['writeonly', 'allocate']],\n",
      "...             op_axes=[list(range(x.ndim)) + [-1] * y.ndim,\n",
      "...                      [-1] * x.ndim + list(range(y.ndim)),\n",
      "...                      None])\n",
      "...     with it:\n",
      "...         for (a, b, c) in it:\n",
      "...             mulop(a, b, out=c)\n",
      "...         return it.operands[2]\n",
      "\n",
      ">>> a = np.arange(2)+1\n",
      ">>> b = np.arange(3)+1\n",
      ">>> outer_it(a,b)\n",
      "array([[1, 2, 3],\n",
      "       [2, 4, 6]])\n",
      "\n",
      "Here is an example function which operates like a \"lambda\" ufunc:\n",
      "\n",
      ">>> def luf(lamdaexpr, *args, **kwargs):\n",
      "...    '''luf(lambdaexpr, op1, ..., opn, out=None, order='K', casting='safe', buffersize=0)'''\n",
      "...    nargs = len(args)\n",
      "...    op = (kwargs.get('out',None),) + args\n",
      "...    it = np.nditer(op, ['buffered','external_loop'],\n",
      "...            [['writeonly','allocate','no_broadcast']] +\n",
      "...                            [['readonly','nbo','aligned']]*nargs,\n",
      "...            order=kwargs.get('order','K'),\n",
      "...            casting=kwargs.get('casting','safe'),\n",
      "...            buffersize=kwargs.get('buffersize',0))\n",
      "...    while not it.finished:\n",
      "...        it[0] = lamdaexpr(*it[1:])\n",
      "...        it.iternext()\n",
      "...    return it.operands[0]\n",
      "\n",
      ">>> a = np.arange(5)\n",
      ">>> b = np.ones(5)\n",
      ">>> luf(lambda i,j:i*i + j/2, a, b)\n",
      "array([  0.5,   1.5,   4.5,   9.5,  16.5])\n",
      "\n",
      "If operand flags ``\"writeonly\"`` or ``\"readwrite\"`` are used the\n",
      "operands may be views into the original data with the\n",
      "`WRITEBACKIFCOPY` flag. In this case `nditer` must be used as a\n",
      "context manager or the `nditer.close` method must be called before\n",
      "using the result. The temporary data will be written back to the\n",
      "original data when the `__exit__` function is called but not before:\n",
      "\n",
      ">>> a = np.arange(6, dtype='i4')[::-2]\n",
      ">>> with np.nditer(a, [],\n",
      "...        [['writeonly', 'updateifcopy']],\n",
      "...        casting='unsafe',\n",
      "...        op_dtypes=[np.dtype('f4')]) as i:\n",
      "...    x = i.operands[0]\n",
      "...    x[:] = [-1, -2, -3]\n",
      "...    # a still unchanged here\n",
      ">>> a, x\n",
      "(array([-1, -2, -3], dtype=int32), array([-1., -2., -3.], dtype=float32))\n",
      "\n",
      "It is important to note that once the iterator is exited, dangling\n",
      "references (like `x` in the example) may or may not share data with\n",
      "the original data `a`. If writeback semantics were active, i.e. if\n",
      "`x.base.flags.writebackifcopy` is `True`, then exiting the iterator\n",
      "will sever the connection between `x` and `a`, writing to `x` will\n",
      "no longer write to `a`. If writeback semantics are not active, then\n",
      "`x.data` will still point at some part of `a.data`, and writing to\n",
      "one will affect the other.\n",
      "\n",
      "Context management and the `close` method appeared in version 1.15.0.\n",
      "\n",
      "\n",
      "Methods:\n",
      "\n",
      "  close  --  close()\n",
      "  copy  --  copy()\n",
      "  debug_print  --  debug_print()\n",
      "  enable_external_loop  --  enable_external_loop()\n",
      "  iternext  --  iternext()\n",
      "  remove_axis  --  remove_axis(i, /)\n",
      "  remove_multi_index  --  remove_multi_index()\n",
      "  reset  --  reset()\n"
     ]
    }
   ],
   "source": [
    "np.info(np.nditer)"
   ]
  },
  {
   "cell_type": "code",
   "execution_count": 108,
   "metadata": {},
   "outputs": [
    {
     "name": "stdout",
     "output_type": "stream",
     "text": [
      "1\n",
      "2\n",
      "3\n",
      "3\n",
      "4\n",
      "5\n",
      "9\n",
      "10\n",
      "11\n",
      "12\n",
      "13\n",
      "14\n",
      "15\n",
      "16\n",
      "17\n",
      "18\n",
      "19\n",
      "20\n"
     ]
    }
   ],
   "source": [
    "for x in np.nditer(a3):\n",
    "    print(x)"
   ]
  },
  {
   "cell_type": "code",
   "execution_count": null,
   "metadata": {},
   "outputs": [],
   "source": []
  },
  {
   "cell_type": "code",
   "execution_count": 109,
   "metadata": {},
   "outputs": [
    {
     "name": "stdout",
     "output_type": "stream",
     "text": [
      " ndenumerate(arr)\n",
      "\n",
      "Multidimensional index iterator.\n",
      "\n",
      "Return an iterator yielding pairs of array coordinates and values.\n",
      "\n",
      "Parameters\n",
      "----------\n",
      "arr : ndarray\n",
      "  Input array.\n",
      "\n",
      "See Also\n",
      "--------\n",
      "ndindex, flatiter\n",
      "\n",
      "Examples\n",
      "--------\n",
      ">>> a = np.array([[1, 2], [3, 4]])\n",
      ">>> for index, x in np.ndenumerate(a):\n",
      "...     print(index, x)\n",
      "(0, 0) 1\n",
      "(0, 1) 2\n",
      "(1, 0) 3\n",
      "(1, 1) 4\n"
     ]
    }
   ],
   "source": [
    "np.info(np.ndenumerate)"
   ]
  },
  {
   "cell_type": "code",
   "execution_count": 113,
   "metadata": {},
   "outputs": [
    {
     "name": "stdout",
     "output_type": "stream",
     "text": [
      "(0, 0, 0) 1\n",
      "(0, 0, 1) 2\n",
      "(0, 0, 2) 3\n",
      "(0, 1, 0) 3\n",
      "(0, 1, 1) 4\n",
      "(0, 1, 2) 5\n",
      "(1, 0, 0) 9\n",
      "(1, 0, 1) 10\n",
      "(1, 0, 2) 11\n",
      "(1, 1, 0) 12\n",
      "(1, 1, 1) 13\n",
      "(1, 1, 2) 14\n",
      "(2, 0, 0) 15\n",
      "(2, 0, 1) 16\n",
      "(2, 0, 2) 17\n",
      "(2, 1, 0) 18\n",
      "(2, 1, 1) 19\n",
      "(2, 1, 2) 20\n"
     ]
    }
   ],
   "source": [
    "for pos, x in np.ndenumerate(a3):\n",
    "    print(pos, x)"
   ]
  }
 ],
 "metadata": {
  "kernelspec": {
   "display_name": "Python 3.8 - AzureML",
   "language": "python",
   "name": "python38-azureml"
  },
  "language_info": {
   "codemirror_mode": {
    "name": "ipython",
    "version": 3
   },
   "file_extension": ".py",
   "mimetype": "text/x-python",
   "name": "python",
   "nbconvert_exporter": "python",
   "pygments_lexer": "ipython3",
   "version": "3.10.11"
  }
 },
 "nbformat": 4,
 "nbformat_minor": 2
}
