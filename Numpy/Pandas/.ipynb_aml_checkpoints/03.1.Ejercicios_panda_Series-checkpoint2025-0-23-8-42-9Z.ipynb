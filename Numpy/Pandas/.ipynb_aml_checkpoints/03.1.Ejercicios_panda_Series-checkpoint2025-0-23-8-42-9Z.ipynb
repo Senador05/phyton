{
 "cells": [
  {
   "cell_type": "markdown",
   "metadata": {},
   "source": [
    "# Ejercicios Pandas Series"
   ]
  },
  {
   "cell_type": "markdown",
   "metadata": {},
   "source": [
    "1. Escribe un programa Pandas para cambiar el tipo de datos de una columna o serie dada.\n",
    "\n",
    "```\n",
    "Serie de muestra:\n",
    "    Serie de datos originales:\n",
    "0       100\n",
    "1       200\n",
    "2    python\n",
    "3    300.12\n",
    "4       400\n",
    "dtype: objeto\n",
    "Cambio a numérico:\n",
    "0    100.00\n",
    "1    200.00\n",
    "2       NaN\n",
    "3    300.12\n",
    "4    400.00\n",
    "tipo: float64\n",
    "```"
   ]
  },
  {
   "cell_type": "code",
   "execution_count": 36,
   "metadata": {},
   "outputs": [],
   "source": [
    "import pandas as pd"
   ]
  },
  {
   "cell_type": "code",
   "execution_count": 37,
   "metadata": {},
   "outputs": [
    {
     "data": {
      "text/plain": [
       "0    100.00\n",
       "1    200.00\n",
       "2       NaN\n",
       "3    300.12\n",
       "4    400.00\n",
       "dtype: float64"
      ]
     },
     "execution_count": 37,
     "metadata": {},
     "output_type": "execute_result"
    }
   ],
   "source": [
    "## mio\n",
    "\n",
    "s = pd.Series([100, 200,'python',300.12,400])\n",
    "st = pd.to_numeric(s,'coerce')\n",
    "st"
   ]
  },
  {
   "cell_type": "code",
   "execution_count": 38,
   "metadata": {},
   "outputs": [
    {
     "data": {
      "text/plain": [
       "0    100.00\n",
       "1    200.00\n",
       "2       NaN\n",
       "3    300.12\n",
       "4    400.00\n",
       "dtype: float64"
      ]
     },
     "execution_count": 38,
     "metadata": {},
     "output_type": "execute_result"
    }
   ],
   "source": [
    "## Ricardo\n",
    "\n",
    "s = pd.Series(['100', '200', 'python', '300.12', '400'])\n",
    "st = pd.to_numeric(s, errors='coerce')\n",
    "st"
   ]
  },
  {
   "cell_type": "markdown",
   "metadata": {},
   "source": [
    "2. Escribe un programa Pandas para convertir series de listas en una serie.\n",
    "\n",
    "```\n",
    "Ejemplo de salida:\n",
    "Serie original de listas\n",
    "0    [Red, Green, White]\n",
    "1           [Red, Black]\n",
    "2               [Yellow]\n",
    "dtype: objeto\n",
    "Una serie:\n",
    "0       Red\n",
    "1     Green\n",
    "2     White\n",
    "3       Red\n",
    "4     Black\n",
    "5    Yellow\n",
    "dtype: objeto\n",
    "```"
   ]
  },
  {
   "cell_type": "code",
   "execution_count": 39,
   "metadata": {},
   "outputs": [
    {
     "data": {
      "text/plain": [
       "0    [Red, Green, White]\n",
       "1           [Red, Black]\n",
       "2               [Yellow]\n",
       "dtype: object"
      ]
     },
     "execution_count": 39,
     "metadata": {},
     "output_type": "execute_result"
    }
   ],
   "source": [
    "s = pd.Series([\n",
    "    ['Red', 'Green', 'White'],\n",
    "    ['Red', 'Black'],\n",
    "    ['Yellow']\n",
    "])\n",
    "s\n"
   ]
  },
  {
   "cell_type": "code",
   "execution_count": 40,
   "metadata": {},
   "outputs": [
    {
     "data": {
      "text/html": [
       "<div>\n",
       "<style scoped>\n",
       "    .dataframe tbody tr th:only-of-type {\n",
       "        vertical-align: middle;\n",
       "    }\n",
       "\n",
       "    .dataframe tbody tr th {\n",
       "        vertical-align: top;\n",
       "    }\n",
       "\n",
       "    .dataframe thead th {\n",
       "        text-align: right;\n",
       "    }\n",
       "</style>\n",
       "<table border=\"1\" class=\"dataframe\">\n",
       "  <thead>\n",
       "    <tr style=\"text-align: right;\">\n",
       "      <th></th>\n",
       "      <th>0</th>\n",
       "      <th>1</th>\n",
       "      <th>2</th>\n",
       "    </tr>\n",
       "  </thead>\n",
       "  <tbody>\n",
       "    <tr>\n",
       "      <th>0</th>\n",
       "      <td>Red</td>\n",
       "      <td>Green</td>\n",
       "      <td>White</td>\n",
       "    </tr>\n",
       "    <tr>\n",
       "      <th>1</th>\n",
       "      <td>Red</td>\n",
       "      <td>Black</td>\n",
       "      <td>NaN</td>\n",
       "    </tr>\n",
       "    <tr>\n",
       "      <th>2</th>\n",
       "      <td>Yellow</td>\n",
       "      <td>NaN</td>\n",
       "      <td>NaN</td>\n",
       "    </tr>\n",
       "  </tbody>\n",
       "</table>\n",
       "</div>"
      ],
      "text/plain": [
       "        0      1      2\n",
       "0     Red  Green  White\n",
       "1     Red  Black    NaN\n",
       "2  Yellow    NaN    NaN"
      ]
     },
     "execution_count": 40,
     "metadata": {},
     "output_type": "execute_result"
    }
   ],
   "source": [
    "t = s.apply(pd.Series)\n",
    "t"
   ]
  },
  {
   "cell_type": "code",
   "execution_count": 41,
   "metadata": {},
   "outputs": [
    {
     "data": {
      "text/plain": [
       "0  0       Red\n",
       "   1     Green\n",
       "   2     White\n",
       "1  0       Red\n",
       "   1     Black\n",
       "2  0    Yellow\n",
       "dtype: object"
      ]
     },
     "execution_count": 41,
     "metadata": {},
     "output_type": "execute_result"
    }
   ],
   "source": [
    "u = t.stack()\n",
    "u"
   ]
  },
  {
   "cell_type": "code",
   "execution_count": 42,
   "metadata": {},
   "outputs": [
    {
     "data": {
      "text/plain": [
       "0       Red\n",
       "1     Green\n",
       "2     White\n",
       "3       Red\n",
       "4     Black\n",
       "5    Yellow\n",
       "dtype: object"
      ]
     },
     "execution_count": 42,
     "metadata": {},
     "output_type": "execute_result"
    }
   ],
   "source": [
    "v = u.reset_index(drop=True)\n",
    "v"
   ]
  },
  {
   "cell_type": "code",
   "execution_count": 43,
   "metadata": {},
   "outputs": [
    {
     "data": {
      "text/plain": [
       "0       Red\n",
       "1     Green\n",
       "2     White\n",
       "3       Red\n",
       "4     Black\n",
       "5    Yellow\n",
       "dtype: object"
      ]
     },
     "execution_count": 43,
     "metadata": {},
     "output_type": "execute_result"
    }
   ],
   "source": [
    "s = pd.Series([\n",
    "    ['Red', 'Green', 'White'],\n",
    "    ['Red', 'Black'],\n",
    "    ['Yellow']\n",
    "])\n",
    "s\n",
    "\n",
    "s.apply(pd.Series).stack().reset_index(drop=True)"
   ]
  },
  {
   "cell_type": "markdown",
   "metadata": {},
   "source": [
    "3. Escribe un programa Pandas para agregar algunos datos a una serie existente.\n",
    "\n",
    "```\n",
    "Ejemplo de salida:\n",
    "Serie de datos originales:\n",
    "0       100\n",
    "1       200\n",
    "2    python\n",
    "3    300.12\n",
    "4       400\n",
    "dtype: objeto\n",
    "\n",
    "Serie de datos después de agregar algunos datos:\n",
    "0       100\n",
    "1       200\n",
    "2    python\n",
    "3    300.12\n",
    "4       400\n",
    "5       500\n",
    "6       php\n",
    "dtype: objeto\n",
    "```"
   ]
  },
  {
   "cell_type": "code",
   "execution_count": 44,
   "metadata": {},
   "outputs": [
    {
     "name": "stdout",
     "output_type": "stream",
     "text": [
      "0       100\n",
      "1       200\n",
      "2    python\n",
      "3    300.12\n",
      "4       400\n",
      "dtype: object\n"
     ]
    },
    {
     "data": {
      "text/plain": [
       "0       100\n",
       "1       200\n",
       "2    python\n",
       "3    300.12\n",
       "4       400\n",
       "0       500\n",
       "1       php\n",
       "dtype: object"
      ]
     },
     "execution_count": 44,
     "metadata": {},
     "output_type": "execute_result"
    }
   ],
   "source": [
    "s = pd.Series(['100', '200', 'python', '300.12', '400'])\n",
    "print(s)\n",
    "s2 = pd.Series(['500', 'php'])\n",
    "pd.concat([s, s2])"
   ]
  },
  {
   "cell_type": "code",
   "execution_count": 45,
   "metadata": {},
   "outputs": [
    {
     "data": {
      "text/plain": [
       "0       100\n",
       "1       200\n",
       "2    python\n",
       "3    300.12\n",
       "4       400\n",
       "5       500\n",
       "6       php\n",
       "dtype: object"
      ]
     },
     "execution_count": 45,
     "metadata": {},
     "output_type": "execute_result"
    }
   ],
   "source": [
    "pd.concat([s, s2], ignore_index=True)"
   ]
  },
  {
   "cell_type": "markdown",
   "metadata": {},
   "source": [
    "4. Escribe un programa Pandas para crear otra serie con un subconjunto de datos según un valor y una condición dada.\n",
    "\n",
    "```\n",
    "Ejemplo de salida:\n",
    "Serie de datos originales:\n",
    "0      0\n",
    "1      1\n",
    "2      2\n",
    "\n",
    "....\n",
    "\n",
    "9      9\n",
    "10    10\n",
    "tipo: int64\n",
    "\n",
    "Subconjunto de la serie de datos anterior:\n",
    "0    0\n",
    "1    1\n",
    "2    2\n",
    "3    3\n",
    "4    4\n",
    "5    5\n",
    "tipo: int64\n",
    "```"
   ]
  },
  {
   "cell_type": "code",
   "execution_count": 46,
   "metadata": {},
   "outputs": [
    {
     "name": "stdout",
     "output_type": "stream",
     "text": [
      "0      0\n",
      "1      1\n",
      "2      2\n",
      "3      3\n",
      "4      4\n",
      "5      5\n",
      "6      6\n",
      "7      7\n",
      "8      8\n",
      "9      9\n",
      "10    10\n",
      "dtype: int64\n"
     ]
    },
    {
     "data": {
      "text/plain": [
       "0    0\n",
       "1    1\n",
       "2    2\n",
       "3    3\n",
       "4    4\n",
       "5    5\n",
       "dtype: int64"
      ]
     },
     "execution_count": 46,
     "metadata": {},
     "output_type": "execute_result"
    }
   ],
   "source": [
    "\n",
    "\n",
    "s = pd.Series(list(range(11)))\n",
    "print(s)\n",
    "\n",
    "s[s <= 5]"
   ]
  },
  {
   "cell_type": "markdown",
   "metadata": {},
   "source": [
    "5. Escribe un programa Pandas para cambiar el orden del índice de una serie dada.\n",
    "\n",
    "```\n",
    "Ejemplo de salida:\n",
    "Serie de datos originales:\n",
    "A    1\n",
    "B    2\n",
    "C    3\n",
    "D    4\n",
    "E    5\n",
    "tipo: int64\n",
    "\n",
    "Serie de datos después de cambiar el orden del índice:\n",
    "B    2\n",
    "A    1\n",
    "C    3\n",
    "D    4\n",
    "E    5\n",
    "tipo: int64\n",
    "```"
   ]
  },
  {
   "cell_type": "code",
   "execution_count": 47,
   "metadata": {},
   "outputs": [
    {
     "name": "stdout",
     "output_type": "stream",
     "text": [
      "A    1\n",
      "B    2\n",
      "C    3\n",
      "D    4\n",
      "E    5\n",
      "dtype: int64\n"
     ]
    },
    {
     "data": {
      "text/plain": [
       "B    2\n",
       "A    1\n",
       "C    3\n",
       "D    4\n",
       "E    5\n",
       "dtype: int64"
      ]
     },
     "execution_count": 47,
     "metadata": {},
     "output_type": "execute_result"
    }
   ],
   "source": [
    "# s = pd.Series({'A': 1, 'B': 2, 'C': 3, 'D': 4, 'E': 5})\n",
    "s = pd.Series(data=[1, 2, 3, 4, 5], index=['A', 'B', 'C', 'D', 'E'])\n",
    "print(s)\n",
    "s.reindex(['B', 'A', 'C', 'D', 'E'])"
   ]
  },
  {
   "cell_type": "markdown",
   "metadata": {},
   "source": [
    "6. Escribe un programa Pandas para obtener los elementos de una serie dada que no están presentes en otra serie dada.\n",
    "\n",
    "```\n",
    "Ejemplo de salida:  \n",
    "Serie original:\n",
    "sr1:\n",
    "0    1\n",
    "1    2\n",
    "2    3\n",
    "3    4\n",
    "4    5\n",
    "dtype: int64\n",
    "sr2:\n",
    "0     2\n",
    "1     4\n",
    "2     6\n",
    "3     8\n",
    "4    10\n",
    "dtype: int64\n",
    "\n",
    "Elementos de sr1 no presentes en sr2:\n",
    "0    1\n",
    "2    3\n",
    "4    5\n",
    "tipo: int64\n",
    "```"
   ]
  },
  {
   "cell_type": "code",
   "execution_count": 48,
   "metadata": {},
   "outputs": [
    {
     "name": "stdout",
     "output_type": "stream",
     "text": [
      "0    1\n",
      "1    2\n",
      "2    3\n",
      "3    4\n",
      "4    5\n",
      "dtype: int64\n",
      "0     2\n",
      "1     4\n",
      "2     6\n",
      "3     8\n",
      "4    10\n",
      "dtype: int64\n"
     ]
    },
    {
     "data": {
      "text/plain": [
       "0    1\n",
       "2    3\n",
       "4    5\n",
       "dtype: int64"
      ]
     },
     "execution_count": 48,
     "metadata": {},
     "output_type": "execute_result"
    }
   ],
   "source": [
    "sr1 = pd.Series([1, 2, 3, 4, 5])\n",
    "sr2 = pd.Series([2, 4, 6, 8, 10])\n",
    "print(sr1)\n",
    "print(sr2)\n",
    "\n",
    "mask = ~sr1.isin(sr2)\n",
    "sr1[mask]"
   ]
  },
  {
   "cell_type": "markdown",
   "metadata": {},
   "source": [
    "7. Escribe un programa Pandas para calcular el mínimo, el percentil 25, la mediana, el percentil 75 y el máximo de una serie dada.\n",
    "\n",
    "```\n",
    "Ejemplo de salida:\n",
    "Serie original:\n",
    "Original Series:\n",
    "0      3.000938\n",
    "1     11.370722\n",
    "2     14.612143\n",
    "\n",
    "....\n",
    "\n",
    "17    14.118931\n",
    "18     8.247458\n",
    "19     5.526727\n",
    "tipo: float64\n",
    "\n",
    "Mínimo, percentil 25, mediana, 75 y máximo de una serie dada:\n",
    "[ 3.00093811  8.09463867 10.23353705 12.21537733 14.61214321]\n",
    "```"
   ]
  },
  {
   "cell_type": "code",
   "execution_count": 49,
   "metadata": {},
   "outputs": [
    {
     "name": "stdout",
     "output_type": "stream",
     "text": [
      "0     9440.020787\n",
      "1     7264.034310\n",
      "2     8136.634736\n",
      "3     6779.060291\n",
      "4     7918.743520\n",
      "5     2764.359549\n",
      "6     3788.865359\n",
      "7     4299.742636\n",
      "8     2293.549218\n",
      "9     7682.878788\n",
      "10    1953.939263\n",
      "11    5717.884240\n",
      "12    4260.314567\n",
      "13    2990.606951\n",
      "14    7737.301374\n",
      "15    8478.548776\n",
      "16    8125.373791\n",
      "17    1380.050509\n",
      "18    3924.221598\n",
      "19    4720.225941\n",
      "dtype: float64\n"
     ]
    },
    {
     "data": {
      "text/plain": [
       "mean    5482.817810\n",
       "min     1380.050509\n",
       "25%     3589.300757\n",
       "75%     7782.661910\n",
       "max     9440.020787\n",
       "dtype: float64"
      ]
     },
     "execution_count": 49,
     "metadata": {},
     "output_type": "execute_result"
    }
   ],
   "source": [
    "import numpy as np\n",
    "\n",
    "s = (pd.Series(np.random.random(20)))*10000\n",
    "print(s)\n",
    "t = s.describe()\n",
    "t\n",
    "u = t.drop(index=['count','std','50%'])\n",
    "u"
   ]
  },
  {
   "cell_type": "markdown",
   "metadata": {},
   "source": [
    "8. Escribe un programa Pandas para calcular los conteos de frecuencia de cada valor único de una serie dada.\n",
    "\n",
    "```\n",
    "Ejemplo de salida:\n",
    "Serie original:\n",
    "0     1\n",
    "1     7\n",
    "2     1\n",
    "3     6\n",
    "\n",
    "...\n",
    "\n",
    "\n",
    "37    0\n",
    "38    4\n",
    "39    8\n",
    "dtype: objeto\n",
    "Frecuencia de cada valor único de dicha serie.\n",
    "0    9\n",
    "2    7\n",
    "9    6\n",
    "....\n",
    "3    2\n",
    "4    1\n",
    "5    1\n",
    "tipo: int64\n",
    "```"
   ]
  },
  {
   "cell_type": "code",
   "execution_count": 50,
   "metadata": {},
   "outputs": [
    {
     "name": "stdout",
     "output_type": "stream",
     "text": [
      "[5 1 6 9 9 1 3 4 1 6 4 1 3 8 2 6 2 1 4 7 8 2 4 3 2 2 3 3 9 5 5 9 4 5 9 2 1\n",
      " 6 6 4]\n",
      "0     5\n",
      "1     1\n",
      "2     6\n",
      "3     9\n",
      "4     9\n",
      "5     1\n",
      "6     3\n",
      "7     4\n",
      "8     1\n",
      "9     6\n",
      "10    4\n",
      "11    1\n",
      "12    3\n",
      "13    8\n",
      "14    2\n",
      "15    6\n",
      "16    2\n",
      "17    1\n",
      "18    4\n",
      "19    7\n",
      "20    8\n",
      "21    2\n",
      "22    4\n",
      "23    3\n",
      "24    2\n",
      "25    2\n",
      "26    3\n",
      "27    3\n",
      "28    9\n",
      "29    5\n",
      "30    5\n",
      "31    9\n",
      "32    4\n",
      "33    5\n",
      "34    9\n",
      "35    2\n",
      "36    1\n",
      "37    6\n",
      "38    6\n",
      "39    4\n",
      "dtype: int64\n"
     ]
    }
   ],
   "source": [
    "import numpy as np\n",
    "\n",
    "nums = np.random.randint(1, 10, [40])\n",
    "print (nums)\n",
    "so = pd.Series(nums)\n",
    "print(so)\n"
   ]
  },
  {
   "cell_type": "code",
   "execution_count": 51,
   "metadata": {},
   "outputs": [
    {
     "name": "stdout",
     "output_type": "stream",
     "text": [
      "1    6\n",
      "4    6\n",
      "2    6\n",
      "6    5\n",
      "9    5\n",
      "3    5\n",
      "5    4\n",
      "8    2\n",
      "7    1\n",
      "dtype: int64\n"
     ]
    }
   ],
   "source": [
    "fso = so.value_counts()\n",
    "print(fso)"
   ]
  },
  {
   "cell_type": "markdown",
   "metadata": {},
   "source": [
    "9. Escribe un programa Pandas para mostrar el valor más frecuente en una serie dada y reemplazar todo lo demás con el valor 'Otro'.\n",
    "\n",
    "```\n",
    "Ejemplo de salida:\n",
    "Serie original:\n",
    "0     3\n",
    "1     1\n",
    "2     1\n",
    "3     3\n",
    "...\n",
    "12    2\n",
    "13    3\n",
    "14    3\n",
    "dtype: int64\n",
    "\n",
    "frecuencias principales: \n",
    "2    6\n",
    "3    5\n",
    "1    4\n",
    "tipo: int64\n",
    "\n",
    "0     Otro\n",
    "1     Otro\n",
    "2     Otro\n",
    "3     Otro\n",
    "...\n",
    "11        2\n",
    "12        2\n",
    "13    Otro\n",
    "14    Otro\n",
    "dtype: objeto\n",
    "```\n",
    "\n",
    "**Tip**: usar isin (https://pandas.pydata.org/docs/reference/api/pandas.DataFrame.isin.html)"
   ]
  },
  {
   "cell_type": "code",
   "execution_count": 52,
   "metadata": {},
   "outputs": [],
   "source": [
    "import numpy as np"
   ]
  },
  {
   "cell_type": "code",
   "execution_count": 53,
   "metadata": {},
   "outputs": [
    {
     "name": "stdout",
     "output_type": "stream",
     "text": [
      "0     2\n",
      "1     2\n",
      "2     2\n",
      "3     3\n",
      "4     3\n",
      "5     1\n",
      "6     3\n",
      "7     2\n",
      "8     1\n",
      "9     1\n",
      "10    2\n",
      "11    4\n",
      "12    2\n",
      "13    4\n",
      "14    1\n",
      "dtype: int64\n",
      "2    6\n",
      "1    4\n",
      "3    3\n",
      "4    2\n",
      "dtype: int64\n",
      "Int64Index([2, 1, 3, 4], dtype='int64')\n",
      "2\n"
     ]
    },
    {
     "data": {
      "text/plain": [
       "0        2\n",
       "1        2\n",
       "2        2\n",
       "3     Otro\n",
       "4     Otro\n",
       "5     Otro\n",
       "6     Otro\n",
       "7        2\n",
       "8     Otro\n",
       "9     Otro\n",
       "10       2\n",
       "11    Otro\n",
       "12       2\n",
       "13    Otro\n",
       "14    Otro\n",
       "dtype: object"
      ]
     },
     "execution_count": 53,
     "metadata": {},
     "output_type": "execute_result"
    }
   ],
   "source": [
    "nums = np.random.randint(1, 5, [15])\n",
    "s = pd.Series(nums)\n",
    "print(s)\n",
    "conteo = s.value_counts()\n",
    "print(conteo)\n",
    "print(conteo.index)\n",
    "print(conteo.index[0])\n",
    "mask = ~s.isin([conteo.index[0]])\n",
    "s[mask]='Otro'\n",
    "s\n"
   ]
  },
  {
   "cell_type": "markdown",
   "metadata": {},
   "source": [
    "10. Escribe un programa Pandas para obtener las posiciones de los elementos de una serie dada en otra serie dada.\n",
    "\n",
    "```\n",
    "Ejemplo de salida:  \n",
    "Serie original:\n",
    "0     1\n",
    "1     2\n",
    "2     3\n",
    "3     4\n",
    "4     5\n",
    "5     6\n",
    "6     7\n",
    "7     8\n",
    "8     9\n",
    "9    10\n",
    "tipo: int64\n",
    "0     1\n",
    "1     3\n",
    "2     5\n",
    "3     7\n",
    "4    10\n",
    "tipo: int64\n",
    "Posiciones de los elementos de la serie 2 en la serie 1:\n",
    "[0, 2, 4, 6, 9]\n",
    "```"
   ]
  },
  {
   "cell_type": "code",
   "execution_count": 54,
   "metadata": {},
   "outputs": [
    {
     "name": "stdout",
     "output_type": "stream",
     "text": [
      "[ 1  2  3  4  5  6  7  8  9 10]\n",
      "0     1\n",
      "1     2\n",
      "2     3\n",
      "3     4\n",
      "4     5\n",
      "5     6\n",
      "6     7\n",
      "7     8\n",
      "8     9\n",
      "9    10\n",
      "dtype: int64\n",
      "[ 1  3  5  7 10]\n",
      "0     1\n",
      "1     3\n",
      "2     5\n",
      "3     7\n",
      "4    10\n",
      "dtype: int64\n",
      "0     True\n",
      "1    False\n",
      "2     True\n",
      "3    False\n",
      "4     True\n",
      "5    False\n",
      "6     True\n",
      "7    False\n",
      "8    False\n",
      "9     True\n",
      "dtype: bool\n"
     ]
    },
    {
     "data": {
      "text/plain": [
       "0     1\n",
       "2     3\n",
       "4     5\n",
       "6     7\n",
       "9    10\n",
       "dtype: int64"
      ]
     },
     "execution_count": 54,
     "metadata": {},
     "output_type": "execute_result"
    }
   ],
   "source": [
    "import numpy as np\n",
    "\n",
    "num1 = np.arange(1,11)\n",
    "print(num1)\n",
    "ser = pd.Series(num1)\n",
    "print(ser)\n",
    "num2 = np.arange(1,10,2)\n",
    "num2[4] = 10\n",
    "print(num2)\n",
    "ser2 = pd.Series(num2)\n",
    "print(ser2)\n",
    "\n",
    "mask = ser.isin(ser2)\n",
    "print(mask)\n",
    "ser[mask]\n"
   ]
  },
  {
   "cell_type": "markdown",
   "metadata": {},
   "source": [
    "11. Escribe un programa Pandas que convierta el primer y el último carácter de cada palabra a mayúsculas en cada palabra de una serie dada.\n",
    "\n",
    "```\n",
    "Ejemplo de salida:\n",
    "Serie original:\n",
    "0       php\n",
    "1    python\n",
    "2      java\n",
    "3        c#\n",
    "dtype: objeto\n",
    "\n",
    "Primer y último carácter de cada palabra en mayúscula:\n",
    "0       PhP\n",
    "1    PythoN\n",
    "2      JavA\n",
    "3        C#\n",
    "dtype: objeto\n",
    "```"
   ]
  },
  {
   "cell_type": "code",
   "execution_count": 72,
   "metadata": {},
   "outputs": [
    {
     "name": "stdout",
     "output_type": "stream",
     "text": [
      "0       php\n",
      "1    python\n",
      "2      java\n",
      "3        c#\n",
      "dtype: object\n",
      "['php', 'python', 'java', 'c#']\n",
      "None\n"
     ]
    }
   ],
   "source": [
    "\n",
    "def mayu(l):\n",
    "    for x in l:\n",
    "        x = 'x'.title\n",
    "    print(l)\n",
    "palab = pd.Series(['php','python','java','c#'])\n",
    "print(palab)\n",
    "k = list(palab)\n",
    "print(mayu(k))\n"
   ]
  },
  {
   "cell_type": "markdown",
   "metadata": {},
   "source": [
    "12. Escribe un programa Pandas para calcular la diferencia de diferencias entre números consecutivos de una serie dada.\n",
    "\n",
    "```\n",
    "Ejemplo de salida:\n",
    "Serie original:\n",
    "0     1\n",
    "1     3\n",
    "2     5\n",
    "3     8\n",
    "4    10\n",
    "5    11\n",
    "6    15\n",
    "tipo: int64\n",
    "\n",
    "Diferencia de diferencias entre números consecutivos de la serie:\n",
    "[nan, 2.0, 2.0, 3.0, 2.0, 1.0, 4.0]\n",
    "[nan, nan, 0.0, 1.0, -1.0, -1.0, 3.0]\n",
    "```"
   ]
  },
  {
   "cell_type": "code",
   "execution_count": null,
   "metadata": {},
   "outputs": [],
   "source": []
  }
 ],
 "metadata": {
  "kernelspec": {
   "display_name": "Python 3.8 - AzureML",
   "language": "python",
   "name": "python38-azureml"
  },
  "language_info": {
   "codemirror_mode": {
    "name": "ipython",
    "version": 3
   },
   "file_extension": ".py",
   "mimetype": "text/x-python",
   "name": "python",
   "nbconvert_exporter": "python",
   "pygments_lexer": "ipython3",
   "version": "3.10.11"
  }
 },
 "nbformat": 4,
 "nbformat_minor": 2
}
