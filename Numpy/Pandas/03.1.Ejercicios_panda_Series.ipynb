{
 "cells": [
  {
   "cell_type": "markdown",
   "metadata": {},
   "source": [
    "# Ejercicios Pandas Series"
   ]
  },
  {
   "cell_type": "markdown",
   "metadata": {},
   "source": [
    "1. Escribe un programa Pandas para cambiar el tipo de datos de una columna o serie dada.\n",
    "\n",
    "```\n",
    "Serie de muestra:\n",
    "    Serie de datos originales:\n",
    "0       100\n",
    "1       200\n",
    "2    python\n",
    "3    300.12\n",
    "4       400\n",
    "dtype: objeto\n",
    "Cambio a numérico:\n",
    "0    100.00\n",
    "1    200.00\n",
    "2       NaN\n",
    "3    300.12\n",
    "4    400.00\n",
    "tipo: float64\n",
    "```"
   ]
  },
  {
   "cell_type": "code",
   "execution_count": 2,
   "metadata": {},
   "outputs": [],
   "source": [
    "import pandas as pd"
   ]
  },
  {
   "cell_type": "code",
   "execution_count": 3,
   "metadata": {},
   "outputs": [
    {
     "data": {
      "text/plain": [
       "0    100.00\n",
       "1    200.00\n",
       "2       NaN\n",
       "3    300.12\n",
       "4    400.00\n",
       "dtype: float64"
      ]
     },
     "execution_count": 3,
     "metadata": {},
     "output_type": "execute_result"
    }
   ],
   "source": [
    "## mio\n",
    "\n",
    "s = pd.Series([100, 200,'python',300.12,400])\n",
    "st = pd.to_numeric(s,'coerce')\n",
    "st"
   ]
  },
  {
   "cell_type": "code",
   "execution_count": 4,
   "metadata": {},
   "outputs": [
    {
     "data": {
      "text/plain": [
       "0    100.00\n",
       "1    200.00\n",
       "2       NaN\n",
       "3    300.12\n",
       "4    400.00\n",
       "dtype: float64"
      ]
     },
     "execution_count": 4,
     "metadata": {},
     "output_type": "execute_result"
    }
   ],
   "source": [
    "## Ricardo\n",
    "\n",
    "s = pd.Series(['100', '200', 'python', '300.12', '400'])\n",
    "st = pd.to_numeric(s, errors='coerce')\n",
    "st"
   ]
  },
  {
   "cell_type": "markdown",
   "metadata": {},
   "source": [
    "2. Escribe un programa Pandas para convertir series de listas en una serie.\n",
    "\n",
    "```\n",
    "Ejemplo de salida:\n",
    "Serie original de listas\n",
    "0    [Red, Green, White]\n",
    "1           [Red, Black]\n",
    "2               [Yellow]\n",
    "dtype: objeto\n",
    "Una serie:\n",
    "0       Red\n",
    "1     Green\n",
    "2     White\n",
    "3       Red\n",
    "4     Black\n",
    "5    Yellow\n",
    "dtype: objeto\n",
    "```"
   ]
  },
  {
   "cell_type": "code",
   "execution_count": 5,
   "metadata": {},
   "outputs": [
    {
     "data": {
      "text/plain": [
       "0    [Red, Green, White]\n",
       "1           [Red, Black]\n",
       "2               [Yellow]\n",
       "dtype: object"
      ]
     },
     "execution_count": 5,
     "metadata": {},
     "output_type": "execute_result"
    }
   ],
   "source": [
    "s = pd.Series([\n",
    "    ['Red', 'Green', 'White'],\n",
    "    ['Red', 'Black'],\n",
    "    ['Yellow']\n",
    "])\n",
    "s\n"
   ]
  },
  {
   "cell_type": "code",
   "execution_count": 6,
   "metadata": {},
   "outputs": [
    {
     "data": {
      "text/html": [
       "<div>\n",
       "<style scoped>\n",
       "    .dataframe tbody tr th:only-of-type {\n",
       "        vertical-align: middle;\n",
       "    }\n",
       "\n",
       "    .dataframe tbody tr th {\n",
       "        vertical-align: top;\n",
       "    }\n",
       "\n",
       "    .dataframe thead th {\n",
       "        text-align: right;\n",
       "    }\n",
       "</style>\n",
       "<table border=\"1\" class=\"dataframe\">\n",
       "  <thead>\n",
       "    <tr style=\"text-align: right;\">\n",
       "      <th></th>\n",
       "      <th>0</th>\n",
       "      <th>1</th>\n",
       "      <th>2</th>\n",
       "    </tr>\n",
       "  </thead>\n",
       "  <tbody>\n",
       "    <tr>\n",
       "      <th>0</th>\n",
       "      <td>Red</td>\n",
       "      <td>Green</td>\n",
       "      <td>White</td>\n",
       "    </tr>\n",
       "    <tr>\n",
       "      <th>1</th>\n",
       "      <td>Red</td>\n",
       "      <td>Black</td>\n",
       "      <td>NaN</td>\n",
       "    </tr>\n",
       "    <tr>\n",
       "      <th>2</th>\n",
       "      <td>Yellow</td>\n",
       "      <td>NaN</td>\n",
       "      <td>NaN</td>\n",
       "    </tr>\n",
       "  </tbody>\n",
       "</table>\n",
       "</div>"
      ],
      "text/plain": [
       "        0      1      2\n",
       "0     Red  Green  White\n",
       "1     Red  Black    NaN\n",
       "2  Yellow    NaN    NaN"
      ]
     },
     "execution_count": 6,
     "metadata": {},
     "output_type": "execute_result"
    }
   ],
   "source": [
    "t = s.apply(pd.Series)\n",
    "t"
   ]
  },
  {
   "cell_type": "code",
   "execution_count": 7,
   "metadata": {},
   "outputs": [
    {
     "data": {
      "text/plain": [
       "0  0       Red\n",
       "   1     Green\n",
       "   2     White\n",
       "1  0       Red\n",
       "   1     Black\n",
       "2  0    Yellow\n",
       "dtype: object"
      ]
     },
     "execution_count": 7,
     "metadata": {},
     "output_type": "execute_result"
    }
   ],
   "source": [
    "u = t.stack()\n",
    "u"
   ]
  },
  {
   "cell_type": "code",
   "execution_count": 8,
   "metadata": {},
   "outputs": [
    {
     "data": {
      "text/plain": [
       "0       Red\n",
       "1     Green\n",
       "2     White\n",
       "3       Red\n",
       "4     Black\n",
       "5    Yellow\n",
       "dtype: object"
      ]
     },
     "execution_count": 8,
     "metadata": {},
     "output_type": "execute_result"
    }
   ],
   "source": [
    "v = u.reset_index(drop=True)\n",
    "v"
   ]
  },
  {
   "cell_type": "code",
   "execution_count": 9,
   "metadata": {},
   "outputs": [
    {
     "data": {
      "text/plain": [
       "0       Red\n",
       "1     Green\n",
       "2     White\n",
       "3       Red\n",
       "4     Black\n",
       "5    Yellow\n",
       "dtype: object"
      ]
     },
     "execution_count": 9,
     "metadata": {},
     "output_type": "execute_result"
    }
   ],
   "source": [
    "s = pd.Series([\n",
    "    ['Red', 'Green', 'White'],\n",
    "    ['Red', 'Black'],\n",
    "    ['Yellow']\n",
    "])\n",
    "s\n",
    "\n",
    "s.apply(pd.Series).stack().reset_index(drop=True)"
   ]
  },
  {
   "cell_type": "markdown",
   "metadata": {},
   "source": [
    "3. Escribe un programa Pandas para agregar algunos datos a una serie existente.\n",
    "\n",
    "```\n",
    "Ejemplo de salida:\n",
    "Serie de datos originales:\n",
    "0       100\n",
    "1       200\n",
    "2    python\n",
    "3    300.12\n",
    "4       400\n",
    "dtype: objeto\n",
    "\n",
    "Serie de datos después de agregar algunos datos:\n",
    "0       100\n",
    "1       200\n",
    "2    python\n",
    "3    300.12\n",
    "4       400\n",
    "5       500\n",
    "6       php\n",
    "dtype: objeto\n",
    "```"
   ]
  },
  {
   "cell_type": "code",
   "execution_count": 10,
   "metadata": {},
   "outputs": [
    {
     "name": "stdout",
     "output_type": "stream",
     "text": [
      "0       100\n",
      "1       200\n",
      "2    python\n",
      "3    300.12\n",
      "4       400\n",
      "dtype: object\n"
     ]
    },
    {
     "data": {
      "text/plain": [
       "0       100\n",
       "1       200\n",
       "2    python\n",
       "3    300.12\n",
       "4       400\n",
       "0       500\n",
       "1       php\n",
       "dtype: object"
      ]
     },
     "execution_count": 10,
     "metadata": {},
     "output_type": "execute_result"
    }
   ],
   "source": [
    "s = pd.Series(['100', '200', 'python', '300.12', '400'])\n",
    "print(s)\n",
    "s2 = pd.Series(['500', 'php'])\n",
    "pd.concat([s, s2])"
   ]
  },
  {
   "cell_type": "code",
   "execution_count": 11,
   "metadata": {},
   "outputs": [
    {
     "data": {
      "text/plain": [
       "0       100\n",
       "1       200\n",
       "2    python\n",
       "3    300.12\n",
       "4       400\n",
       "5       500\n",
       "6       php\n",
       "dtype: object"
      ]
     },
     "execution_count": 11,
     "metadata": {},
     "output_type": "execute_result"
    }
   ],
   "source": [
    "pd.concat([s, s2], ignore_index=True)"
   ]
  },
  {
   "cell_type": "markdown",
   "metadata": {},
   "source": [
    "4. Escribe un programa Pandas para crear otra serie con un subconjunto de datos según un valor y una condición dada.\n",
    "\n",
    "```\n",
    "Ejemplo de salida:\n",
    "Serie de datos originales:\n",
    "0      0\n",
    "1      1\n",
    "2      2\n",
    "\n",
    "....\n",
    "\n",
    "9      9\n",
    "10    10\n",
    "tipo: int64\n",
    "\n",
    "Subconjunto de la serie de datos anterior:\n",
    "0    0\n",
    "1    1\n",
    "2    2\n",
    "3    3\n",
    "4    4\n",
    "5    5\n",
    "tipo: int64\n",
    "```"
   ]
  },
  {
   "cell_type": "code",
   "execution_count": 12,
   "metadata": {},
   "outputs": [
    {
     "name": "stdout",
     "output_type": "stream",
     "text": [
      "0      0\n",
      "1      1\n",
      "2      2\n",
      "3      3\n",
      "4      4\n",
      "5      5\n",
      "6      6\n",
      "7      7\n",
      "8      8\n",
      "9      9\n",
      "10    10\n",
      "dtype: int64\n"
     ]
    },
    {
     "data": {
      "text/plain": [
       "0    0\n",
       "1    1\n",
       "2    2\n",
       "3    3\n",
       "4    4\n",
       "5    5\n",
       "dtype: int64"
      ]
     },
     "execution_count": 12,
     "metadata": {},
     "output_type": "execute_result"
    }
   ],
   "source": [
    "\n",
    "\n",
    "s = pd.Series(list(range(11)))\n",
    "print(s)\n",
    "\n",
    "s[s <= 5]"
   ]
  },
  {
   "cell_type": "markdown",
   "metadata": {},
   "source": [
    "5. Escribe un programa Pandas para cambiar el orden del índice de una serie dada.\n",
    "\n",
    "```\n",
    "Ejemplo de salida:\n",
    "Serie de datos originales:\n",
    "A    1\n",
    "B    2\n",
    "C    3\n",
    "D    4\n",
    "E    5\n",
    "tipo: int64\n",
    "\n",
    "Serie de datos después de cambiar el orden del índice:\n",
    "B    2\n",
    "A    1\n",
    "C    3\n",
    "D    4\n",
    "E    5\n",
    "tipo: int64\n",
    "```"
   ]
  },
  {
   "cell_type": "code",
   "execution_count": 13,
   "metadata": {},
   "outputs": [
    {
     "name": "stdout",
     "output_type": "stream",
     "text": [
      "A    1\n",
      "B    2\n",
      "C    3\n",
      "D    4\n",
      "E    5\n",
      "dtype: int64\n"
     ]
    },
    {
     "data": {
      "text/plain": [
       "B    2\n",
       "A    1\n",
       "C    3\n",
       "D    4\n",
       "E    5\n",
       "dtype: int64"
      ]
     },
     "execution_count": 13,
     "metadata": {},
     "output_type": "execute_result"
    }
   ],
   "source": [
    "# s = pd.Series({'A': 1, 'B': 2, 'C': 3, 'D': 4, 'E': 5})\n",
    "s = pd.Series(data=[1, 2, 3, 4, 5], index=['A', 'B', 'C', 'D', 'E'])\n",
    "print(s)\n",
    "s.reindex(['B', 'A', 'C', 'D', 'E'])"
   ]
  },
  {
   "cell_type": "markdown",
   "metadata": {},
   "source": [
    "6. Escribe un programa Pandas para obtener los elementos de una serie dada que no están presentes en otra serie dada.\n",
    "\n",
    "```\n",
    "Ejemplo de salida:  \n",
    "Serie original:\n",
    "sr1:\n",
    "0    1\n",
    "1    2\n",
    "2    3\n",
    "3    4\n",
    "4    5\n",
    "dtype: int64\n",
    "sr2:\n",
    "0     2\n",
    "1     4\n",
    "2     6\n",
    "3     8\n",
    "4    10\n",
    "dtype: int64\n",
    "\n",
    "Elementos de sr1 no presentes en sr2:\n",
    "0    1\n",
    "2    3\n",
    "4    5\n",
    "tipo: int64\n",
    "```"
   ]
  },
  {
   "cell_type": "code",
   "execution_count": 14,
   "metadata": {},
   "outputs": [
    {
     "name": "stdout",
     "output_type": "stream",
     "text": [
      "0    1\n",
      "1    2\n",
      "2    3\n",
      "3    4\n",
      "4    5\n",
      "dtype: int64\n",
      "0     2\n",
      "1     4\n",
      "2     6\n",
      "3     8\n",
      "4    10\n",
      "dtype: int64\n"
     ]
    },
    {
     "data": {
      "text/plain": [
       "0    1\n",
       "2    3\n",
       "4    5\n",
       "dtype: int64"
      ]
     },
     "execution_count": 14,
     "metadata": {},
     "output_type": "execute_result"
    }
   ],
   "source": [
    "sr1 = pd.Series([1, 2, 3, 4, 5])\n",
    "sr2 = pd.Series([2, 4, 6, 8, 10])\n",
    "print(sr1)\n",
    "print(sr2)\n",
    "\n",
    "mask = ~sr1.isin(sr2)\n",
    "sr1[mask]"
   ]
  },
  {
   "cell_type": "markdown",
   "metadata": {},
   "source": [
    "7. Escribe un programa Pandas para calcular el mínimo, el percentil 25, la mediana, el percentil 75 y el máximo de una serie dada.\n",
    "\n",
    "```\n",
    "Ejemplo de salida:\n",
    "Serie original:\n",
    "Original Series:\n",
    "0      3.000938\n",
    "1     11.370722\n",
    "2     14.612143\n",
    "\n",
    "....\n",
    "\n",
    "17    14.118931\n",
    "18     8.247458\n",
    "19     5.526727\n",
    "tipo: float64\n",
    "\n",
    "Mínimo, percentil 25, mediana, 75 y máximo de una serie dada:\n",
    "[ 3.00093811  8.09463867 10.23353705 12.21537733 14.61214321]\n",
    "```"
   ]
  },
  {
   "cell_type": "code",
   "execution_count": 15,
   "metadata": {},
   "outputs": [
    {
     "name": "stdout",
     "output_type": "stream",
     "text": [
      "0     8821.137295\n",
      "1     4186.585848\n",
      "2     2774.061967\n",
      "3     4410.989781\n",
      "4     5455.510724\n",
      "5     9946.186769\n",
      "6     1397.400110\n",
      "7      379.825160\n",
      "8     1247.856582\n",
      "9     9092.163598\n",
      "10    6134.377023\n",
      "11    8465.950290\n",
      "12    9315.263340\n",
      "13    4580.402306\n",
      "14    4883.433288\n",
      "15     149.170494\n",
      "16     164.649064\n",
      "17    6948.478889\n",
      "18    2543.058360\n",
      "19    3088.224499\n",
      "dtype: float64\n"
     ]
    },
    {
     "data": {
      "text/plain": [
       "mean    4699.236269\n",
       "min      149.170494\n",
       "25%     2256.643797\n",
       "75%     7327.846739\n",
       "max     9946.186769\n",
       "dtype: float64"
      ]
     },
     "execution_count": 15,
     "metadata": {},
     "output_type": "execute_result"
    }
   ],
   "source": [
    "import numpy as np\n",
    "\n",
    "s = (pd.Series(np.random.random(20)))*10000\n",
    "print(s)\n",
    "t = s.describe()\n",
    "t\n",
    "u = t.drop(index=['count','std','50%'])\n",
    "u"
   ]
  },
  {
   "cell_type": "markdown",
   "metadata": {},
   "source": [
    "8. Escribe un programa Pandas para calcular los conteos de frecuencia de cada valor único de una serie dada.\n",
    "\n",
    "```\n",
    "Ejemplo de salida:\n",
    "Serie original:\n",
    "0     1\n",
    "1     7\n",
    "2     1\n",
    "3     6\n",
    "\n",
    "...\n",
    "\n",
    "\n",
    "37    0\n",
    "38    4\n",
    "39    8\n",
    "dtype: objeto\n",
    "Frecuencia de cada valor único de dicha serie.\n",
    "0    9\n",
    "2    7\n",
    "9    6\n",
    "....\n",
    "3    2\n",
    "4    1\n",
    "5    1\n",
    "tipo: int64\n",
    "```"
   ]
  },
  {
   "cell_type": "code",
   "execution_count": 16,
   "metadata": {},
   "outputs": [
    {
     "name": "stdout",
     "output_type": "stream",
     "text": [
      "[4 4 9 6 8 6 5 8 2 3 4 4 4 4 5 8 3 5 2 5 9 9 1 6 3 7 3 5 2 1 6 9 6 6 1 6 4\n",
      " 6 8 9]\n",
      "0     4\n",
      "1     4\n",
      "2     9\n",
      "3     6\n",
      "4     8\n",
      "5     6\n",
      "6     5\n",
      "7     8\n",
      "8     2\n",
      "9     3\n",
      "10    4\n",
      "11    4\n",
      "12    4\n",
      "13    4\n",
      "14    5\n",
      "15    8\n",
      "16    3\n",
      "17    5\n",
      "18    2\n",
      "19    5\n",
      "20    9\n",
      "21    9\n",
      "22    1\n",
      "23    6\n",
      "24    3\n",
      "25    7\n",
      "26    3\n",
      "27    5\n",
      "28    2\n",
      "29    1\n",
      "30    6\n",
      "31    9\n",
      "32    6\n",
      "33    6\n",
      "34    1\n",
      "35    6\n",
      "36    4\n",
      "37    6\n",
      "38    8\n",
      "39    9\n",
      "dtype: int64\n"
     ]
    }
   ],
   "source": [
    "import numpy as np\n",
    "\n",
    "nums = np.random.randint(1, 10, [40])\n",
    "print (nums)\n",
    "so = pd.Series(nums)\n",
    "print(so)\n"
   ]
  },
  {
   "cell_type": "code",
   "execution_count": 17,
   "metadata": {},
   "outputs": [
    {
     "name": "stdout",
     "output_type": "stream",
     "text": [
      "6    8\n",
      "4    7\n",
      "9    5\n",
      "5    5\n",
      "8    4\n",
      "3    4\n",
      "2    3\n",
      "1    3\n",
      "7    1\n",
      "dtype: int64\n"
     ]
    }
   ],
   "source": [
    "fso = so.value_counts()\n",
    "print(fso)"
   ]
  },
  {
   "cell_type": "markdown",
   "metadata": {},
   "source": [
    "9. Escribe un programa Pandas para mostrar el valor más frecuente en una serie dada y reemplazar todo lo demás con el valor 'Otro'.\n",
    "\n",
    "```\n",
    "Ejemplo de salida:\n",
    "Serie original:\n",
    "0     3\n",
    "1     1\n",
    "2     1\n",
    "3     3\n",
    "...\n",
    "12    2\n",
    "13    3\n",
    "14    3\n",
    "dtype: int64\n",
    "\n",
    "frecuencias principales: \n",
    "2    6\n",
    "3    5\n",
    "1    4\n",
    "tipo: int64\n",
    "\n",
    "0     Otro\n",
    "1     Otro\n",
    "2     Otro\n",
    "3     Otro\n",
    "...\n",
    "11        2\n",
    "12        2\n",
    "13    Otro\n",
    "14    Otro\n",
    "dtype: objeto\n",
    "```\n",
    "\n",
    "**Tip**: usar isin (https://pandas.pydata.org/docs/reference/api/pandas.DataFrame.isin.html)"
   ]
  },
  {
   "cell_type": "code",
   "execution_count": 18,
   "metadata": {},
   "outputs": [],
   "source": [
    "import numpy as np"
   ]
  },
  {
   "cell_type": "code",
   "execution_count": 19,
   "metadata": {},
   "outputs": [
    {
     "name": "stdout",
     "output_type": "stream",
     "text": [
      "0     3\n",
      "1     2\n",
      "2     4\n",
      "3     1\n",
      "4     1\n",
      "5     1\n",
      "6     3\n",
      "7     3\n",
      "8     4\n",
      "9     1\n",
      "10    2\n",
      "11    3\n",
      "12    1\n",
      "13    4\n",
      "14    3\n",
      "dtype: int64\n",
      "3    5\n",
      "1    5\n",
      "4    3\n",
      "2    2\n",
      "dtype: int64\n",
      "Int64Index([3, 1, 4, 2], dtype='int64')\n",
      "3\n"
     ]
    },
    {
     "data": {
      "text/plain": [
       "0        3\n",
       "1     Otro\n",
       "2     Otro\n",
       "3     Otro\n",
       "4     Otro\n",
       "5     Otro\n",
       "6        3\n",
       "7        3\n",
       "8     Otro\n",
       "9     Otro\n",
       "10    Otro\n",
       "11       3\n",
       "12    Otro\n",
       "13    Otro\n",
       "14       3\n",
       "dtype: object"
      ]
     },
     "execution_count": 19,
     "metadata": {},
     "output_type": "execute_result"
    }
   ],
   "source": [
    "nums = np.random.randint(1, 5, [15])\n",
    "s = pd.Series(nums)\n",
    "print(s)\n",
    "conteo = s.value_counts()\n",
    "print(conteo)\n",
    "print(conteo.index)\n",
    "print(conteo.index[0])\n",
    "mask = ~s.isin([conteo.index[0]])\n",
    "s[mask]='Otro'\n",
    "s\n"
   ]
  },
  {
   "cell_type": "markdown",
   "metadata": {},
   "source": [
    "10. Escribe un programa Pandas para obtener las posiciones de los elementos de una serie dada en otra serie dada.\n",
    "\n",
    "```\n",
    "Ejemplo de salida:  \n",
    "Serie original:\n",
    "0     1\n",
    "1     2\n",
    "2     3\n",
    "3     4\n",
    "4     5\n",
    "5     6\n",
    "6     7\n",
    "7     8\n",
    "8     9\n",
    "9    10\n",
    "tipo: int64\n",
    "0     1\n",
    "1     3\n",
    "2     5\n",
    "3     7\n",
    "4    10\n",
    "tipo: int64\n",
    "Posiciones de los elementos de la serie 2 en la serie 1:\n",
    "[0, 2, 4, 6, 9]\n",
    "```"
   ]
  },
  {
   "cell_type": "code",
   "execution_count": 20,
   "metadata": {},
   "outputs": [
    {
     "name": "stdout",
     "output_type": "stream",
     "text": [
      "[ 1  2  3  4  5  6  7  8  9 10]\n",
      "0     1\n",
      "1     2\n",
      "2     3\n",
      "3     4\n",
      "4     5\n",
      "5     6\n",
      "6     7\n",
      "7     8\n",
      "8     9\n",
      "9    10\n",
      "dtype: int64\n",
      "[ 1  3  5  7 10]\n",
      "0     1\n",
      "1     3\n",
      "2     5\n",
      "3     7\n",
      "4    10\n",
      "dtype: int64\n",
      "0     True\n",
      "1    False\n",
      "2     True\n",
      "3    False\n",
      "4     True\n",
      "5    False\n",
      "6     True\n",
      "7    False\n",
      "8    False\n",
      "9     True\n",
      "dtype: bool\n"
     ]
    },
    {
     "data": {
      "text/plain": [
       "0     1\n",
       "2     3\n",
       "4     5\n",
       "6     7\n",
       "9    10\n",
       "dtype: int64"
      ]
     },
     "execution_count": 20,
     "metadata": {},
     "output_type": "execute_result"
    }
   ],
   "source": [
    "import numpy as np\n",
    "\n",
    "num1 = np.arange(1,11)\n",
    "print(num1)\n",
    "ser = pd.Series(num1)\n",
    "print(ser)\n",
    "num2 = np.arange(1,10,2)\n",
    "num2[4] = 10\n",
    "print(num2)\n",
    "ser2 = pd.Series(num2)\n",
    "print(ser2)\n",
    "\n",
    "mask = ser.isin(ser2)\n",
    "print(mask)\n",
    "ser[mask]\n"
   ]
  },
  {
   "cell_type": "markdown",
   "metadata": {},
   "source": [
    "## otra forma"
   ]
  },
  {
   "cell_type": "code",
   "execution_count": 21,
   "metadata": {},
   "outputs": [
    {
     "name": "stdout",
     "output_type": "stream",
     "text": [
      "0     1\n",
      "1     2\n",
      "2     3\n",
      "3     4\n",
      "4     5\n",
      "5     6\n",
      "6     7\n",
      "7     8\n",
      "8     9\n",
      "9    10\n",
      "dtype: int64\n",
      "0     1\n",
      "1     3\n",
      "2     5\n",
      "3     7\n",
      "4    10\n",
      "dtype: int64\n",
      "Int64Index([1, 2, 3, 4, 5, 6, 7, 8, 9, 10], dtype='int64')\n",
      "0\n",
      "0\n",
      "[0, 2, 4, 6, 9]\n",
      "[0, 2, 4, 6, 9]\n"
     ]
    }
   ],
   "source": [
    "series1= pd.Series([1,2,3,4,5,6,7,8,9,10])\n",
    "series2= pd.Series([1,3,5,7,10])\n",
    "\n",
    "print(series1)\n",
    "print(series2)\n",
    "\n",
    "aux = pd.Index(series1)\n",
    "print(aux)\n",
    "aux.get_loc(1) ## me localiza en que posición esta 1 en la lista aux\n",
    "print(aux.get_loc(1)) \n",
    "aux1 = aux.get_loc(1) \n",
    "print(aux1) \n",
    "aux2 = [aux.get_loc(i) for i in series2] \n",
    "print(aux2) \n",
    "\n",
    "result = [pd.Index(series1).get_loc(i) for i in series2] # de una vez\n",
    "print(result)\n",
    "\n",
    "\n",
    "\n"
   ]
  },
  {
   "cell_type": "markdown",
   "metadata": {},
   "source": [
    "11. Escribe un programa Pandas que convierta el primer y el último carácter de cada palabra a mayúsculas en cada palabra de una serie dada.\n",
    "\n",
    "```\n",
    "Ejemplo de salida:\n",
    "Serie original:\n",
    "0       php\n",
    "1    python\n",
    "2      java\n",
    "3        c#\n",
    "dtype: objeto\n",
    "\n",
    "Primer y último carácter de cada palabra en mayúscula:\n",
    "0       PhP\n",
    "1    PythoN\n",
    "2      JavA\n",
    "3        C#\n",
    "dtype: objeto\n",
    "```"
   ]
  },
  {
   "cell_type": "code",
   "execution_count": 42,
   "metadata": {},
   "outputs": [
    {
     "name": "stdout",
     "output_type": "stream",
     "text": [
      "0       php\n",
      "1    python\n",
      "2      java\n",
      "3        c#\n",
      "dtype: object\n"
     ]
    },
    {
     "data": {
      "text/plain": [
       "0       PhP\n",
       "1    PythoN\n",
       "2      JavA\n",
       "3        C#\n",
       "dtype: object"
      ]
     },
     "execution_count": 42,
     "metadata": {},
     "output_type": "execute_result"
    }
   ],
   "source": [
    "palab = pd.Series(['php','python','java','c#'])\n",
    "print(palab)\n",
    "\n",
    "result = palab.apply(lambda x: x[0].upper() + x [1:-1] +x[-1].upper())\n",
    "result\n",
    "\n",
    "\n"
   ]
  },
  {
   "cell_type": "markdown",
   "metadata": {},
   "source": [
    "12. Escribe un programa Pandas para calcular la diferencia de diferencias entre números consecutivos de una serie dada.\n",
    "\n",
    "```\n",
    "Ejemplo de salida:\n",
    "Serie original:\n",
    "0     1\n",
    "1     3\n",
    "2     5\n",
    "3     8\n",
    "4    10\n",
    "5    11\n",
    "6    15\n",
    "tipo: int64\n",
    "\n",
    "Diferencia de diferencias entre números consecutivos de la serie:\n",
    "[nan, 2.0, 2.0, 3.0, 2.0, 1.0, 4.0]\n",
    "[nan, nan, 0.0, 1.0, -1.0, -1.0, 3.0]\n",
    "```"
   ]
  },
  {
   "cell_type": "code",
   "execution_count": 47,
   "metadata": {},
   "outputs": [
    {
     "name": "stdout",
     "output_type": "stream",
     "text": [
      "0     1\n",
      "1     3\n",
      "2     5\n",
      "3     8\n",
      "4    10\n",
      "5    11\n",
      "6    15\n",
      "dtype: int64\n",
      "[nan, 2.0, 2.0, 3.0, 2.0, 1.0, 4.0]\n",
      "[nan, nan, 0.0, 1.0, -1.0, -1.0, 3.0]\n"
     ]
    }
   ],
   "source": [
    "serO = pd.Series([1,3,5,8,10,11,15])\n",
    "print (serO)\n",
    "\n",
    "diff1 = serO.diff().tolist()\n",
    "print(diff1)\n",
    "\n",
    "diff2 = serO.diff().diff().tolist()\n",
    "print(diff2)"
   ]
  }
 ],
 "metadata": {
  "kernelspec": {
   "display_name": "Python 3.8 - AzureML",
   "language": "python",
   "name": "python38-azureml"
  },
  "language_info": {
   "codemirror_mode": {
    "name": "ipython",
    "version": 3
   },
   "file_extension": ".py",
   "mimetype": "text/x-python",
   "name": "python",
   "nbconvert_exporter": "python",
   "pygments_lexer": "ipython3",
   "version": "3.10.11"
  }
 },
 "nbformat": 4,
 "nbformat_minor": 2
}
