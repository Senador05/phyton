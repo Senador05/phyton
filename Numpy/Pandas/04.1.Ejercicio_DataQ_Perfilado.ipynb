{
 "cells": [
  {
   "cell_type": "markdown",
   "metadata": {},
   "source": [
    "# Ejercicio Data Quality - Perfilado\n",
    "## Evaluar la calidad de datos de las ventas de productos"
   ]
  },
  {
   "cell_type": "markdown",
   "metadata": {},
   "source": [
    "Se quiere hacer una evaluación de calidad de datos sobre las ventas (sales) y pagos (payments). Para ello se requiere hacer un análisis de los siguientes puntos:\n",
    "- Calidad de los datos\n",
    "- Selección de clave principal\n",
    "- Identificación de cardinalidad\n",
    "- Obtener media, varianza y desviacion Estandar, covarianza, correlacion\n",
    "- Mejorar la calidad.\n",
    "\n",
    "**Referencia**: “Estadística Descriptiva con Python y Pandas”: https://coderhook.github.io/Descriptive%20Statistics\n",
    "\n",
    "- Columnas sales:, orderNumber, orderLineNumber, orderDate, shippedDate, requiredDate, customerNumber, employeeNumber, productCode, status, comments, quantityOrdered, priceEach, sales_amount, origin\n",
    "\n",
    "- Columnas payments:, customerNumber, checkNumber, paymentDate, amount"
   ]
  },
  {
   "cell_type": "code",
   "execution_count": 1,
   "metadata": {},
   "outputs": [
    {
     "name": "stdout",
     "output_type": "stream",
     "text": [
      "<class 'pandas.core.frame.DataFrame'>\n",
      "RangeIndex: 278 entries, 0 to 277\n",
      "Data columns (total 4 columns):\n",
      " #   Column       Non-Null Count  Dtype  \n",
      "---  ------       --------------  -----  \n",
      " 0   0            278 non-null    int64  \n",
      " 1   checkNumber  278 non-null    object \n",
      " 2   0000-00-00   278 non-null    object \n",
      " 3   0.00         278 non-null    float64\n",
      "dtypes: float64(1), int64(1), object(2)\n",
      "memory usage: 8.8+ KB\n",
      "None\n",
      "     0 checkNumber  0000-00-00      0.00\n",
      "0  103    HQ336336  2004-10-19   6066.78\n",
      "1  103    JM555205  2003-06-05  14571.44\n",
      "2  103    OM314933  2004-12-18   1676.14\n",
      "3  112    BO864823  2004-12-17  14191.12\n",
      "4  112     HQ55022  2003-06-06  32641.98\n"
     ]
    },
    {
     "data": {
      "text/plain": [
       "(278, 4)"
      ]
     },
     "execution_count": 1,
     "metadata": {},
     "output_type": "execute_result"
    }
   ],
   "source": [
    "import pandas as pd\n",
    "import numpy as np\n",
    "from tabulate import tabulate\n",
    "payment = pd.read_csv('https://raw.githubusercontent.com/ricardoahumada/DataScienceBasics/refs/heads/main/data/company_sales/payments.csv')\n",
    "\n",
    "print(payment.info())\n",
    "print(payment.head())\n",
    "payment.tail()\n",
    "payment.shape"
   ]
  },
  {
   "cell_type": "code",
   "execution_count": 2,
   "metadata": {},
   "outputs": [
    {
     "name": "stdout",
     "output_type": "stream",
     "text": [
      "<class 'pandas.core.frame.DataFrame'>\n",
      "RangeIndex: 278 entries, 0 to 277\n",
      "Data columns (total 4 columns):\n",
      " #   Column       Non-Null Count  Dtype  \n",
      "---  ------       --------------  -----  \n",
      " 0   0            278 non-null    int64  \n",
      " 1   checkNumber  278 non-null    object \n",
      " 2   0000-00-00   278 non-null    object \n",
      " 3   0.00         278 non-null    float64\n",
      "dtypes: float64(1), int64(1), object(2)\n",
      "memory usage: 8.8+ KB\n",
      "None\n"
     ]
    },
    {
     "data": {
      "text/plain": [
       "(278, 4)"
      ]
     },
     "execution_count": 2,
     "metadata": {},
     "output_type": "execute_result"
    }
   ],
   "source": [
    "import pandas as pd\n",
    "payment = pd.read_csv('https://raw.githubusercontent.com/ricardoahumada/DataScienceBasics/refs/heads/main/data/company_sales/payments.csv')\n",
    "\n",
    "print(payment.info())\n",
    "payment.head()\n",
    "payment.tail()\n",
    "payment.shape"
   ]
  },
  {
   "cell_type": "code",
   "execution_count": 3,
   "metadata": {},
   "outputs": [
    {
     "name": "stdout",
     "output_type": "stream",
     "text": [
      "<class 'pandas.core.frame.DataFrame'>\n",
      "RangeIndex: 3001 entries, 0 to 3000\n",
      "Data columns (total 14 columns):\n",
      " #   Column        Non-Null Count  Dtype  \n",
      "---  ------        --------------  -----  \n",
      " 0   0             3001 non-null   int64  \n",
      " 1   0.1           3001 non-null   int64  \n",
      " 2   0000-00-00    3001 non-null   object \n",
      " 3   0000-00-00.1  2859 non-null   object \n",
      " 4   0000-00-00.2  3001 non-null   object \n",
      " 5   0.2           3001 non-null   int64  \n",
      " 6   0.3           3001 non-null   int64  \n",
      " 7   productCode   3001 non-null   object \n",
      " 8   status        3001 non-null   object \n",
      " 9   comments      759 non-null    object \n",
      " 10  0.4           3001 non-null   int64  \n",
      " 11  0.00          3001 non-null   float64\n",
      " 12  0.00.1        3001 non-null   float64\n",
      " 13  origin        3001 non-null   object \n",
      "dtypes: float64(2), int64(5), object(7)\n",
      "memory usage: 328.4+ KB\n",
      "None\n",
      "       0  0.1  0000-00-00 0000-00-00.1 0000-00-00.2  0.2   0.3 productCode  \\\n",
      "0  10100    1  0000-00-00   0000-00-00   0000-00-00  363  1216    S24_3969   \n",
      "1  10100    2  0000-00-00   0000-00-00   0000-00-00  363  1216    S18_2248   \n",
      "2  10100    3  0000-00-00   0000-00-00   0000-00-00  363  1216    S18_1749   \n",
      "3  10100    4  0000-00-00   0000-00-00   0000-00-00  363  1216    S18_4409   \n",
      "4  10101    1  0000-00-00   0000-00-00   0000-00-00  128  1504    S18_2795   \n",
      "\n",
      "    status                comments  0.4    0.00   0.00.1 origin  \n",
      "0  Shipped                     NaN   49   35.29  1729.21  spain  \n",
      "1  Shipped                     NaN   50   55.09  2754.50  spain  \n",
      "2  Shipped                     NaN   30  136.00  4080.00  spain  \n",
      "3  Shipped                     NaN   22   75.46  1660.12  spain  \n",
      "4  Shipped  Check on availability.   26  167.06  4343.56  spain  \n",
      "          0  0.1  0000-00-00 0000-00-00.1 0000-00-00.2  0.2   0.3 productCode  \\\n",
      "2996  10425    9  0000-00-00          NaN   0000-00-00  119  1370    S24_2300   \n",
      "2997  10425   10  0000-00-00          NaN   0000-00-00  119  1370    S18_2432   \n",
      "2998  10425   11  0000-00-00          NaN   0000-00-00  119  1370    S32_1268   \n",
      "2999  10425   12  0000-00-00          NaN   0000-00-00  119  1370    S10_4962   \n",
      "3000  10425   13  0000-00-00          NaN   0000-00-00  119  1370    S18_4600   \n",
      "\n",
      "          status comments  0.4    0.00   0.00.1 origin  \n",
      "2996  In Process      NaN   49  127.79  6261.71  spain  \n",
      "2997  In Process      NaN   19   48.62   923.78  spain  \n",
      "2998  In Process      NaN   41   83.79  3435.39  spain  \n",
      "2999  In Process      NaN   38  131.49  4996.62  spain  \n",
      "3000  In Process      NaN   38  107.76  4094.88  spain  \n"
     ]
    },
    {
     "data": {
      "text/plain": [
       "(3001, 14)"
      ]
     },
     "execution_count": 3,
     "metadata": {},
     "output_type": "execute_result"
    }
   ],
   "source": [
    "sales = pd.read_csv('https://raw.githubusercontent.com/ricardoahumada/DataScienceBasics/refs/heads/main/data/company_sales/sales.csv')\n",
    "\n",
    "print(sales.info())\n",
    "print (sales.head())\n",
    "print (sales.tail())\n",
    "sales.shape\n"
   ]
  },
  {
   "cell_type": "code",
   "execution_count": null,
   "metadata": {},
   "outputs": [],
   "source": []
  }
 ],
 "metadata": {
  "kernelspec": {
   "display_name": "Python 3.8 - AzureML",
   "language": "python",
   "name": "python38-azureml"
  },
  "language_info": {
   "codemirror_mode": {
    "name": "ipython",
    "version": 3
   },
   "file_extension": ".py",
   "mimetype": "text/x-python",
   "name": "python",
   "nbconvert_exporter": "python",
   "pygments_lexer": "ipython3",
   "version": "3.10.11"
  }
 },
 "nbformat": 4,
 "nbformat_minor": 2
}
