{
 "cells": [
  {
   "cell_type": "code",
   "execution_count": 1,
   "metadata": {},
   "outputs": [],
   "source": [
    "import pandas as pd\n",
    "import numpy as np\n",
    "from tabulate import tabulate\n",
    "\n",
    "sales_df = pd.read_csv('https://raw.githubusercontent.com/ricardoahumada/DataScienceBasics/refs/heads/main/data/company_sales/sales.csv')\n",
    "\n"
   ]
  },
  {
   "cell_type": "code",
   "execution_count": 2,
   "metadata": {},
   "outputs": [
    {
     "name": "stdout",
     "output_type": "stream",
     "text": [
      "<class 'pandas.core.frame.DataFrame'>\n",
      "RangeIndex: 3001 entries, 0 to 3000\n",
      "Data columns (total 14 columns):\n",
      " #   Column           Non-Null Count  Dtype  \n",
      "---  ------           --------------  -----  \n",
      " 0   orderNumber      3001 non-null   int64  \n",
      " 1   orderLineNumber  3001 non-null   int64  \n",
      " 2   orderDate        3001 non-null   object \n",
      " 3   shippedDate      2859 non-null   object \n",
      " 4   requiredDate     3001 non-null   object \n",
      " 5   customerNumber   3001 non-null   int64  \n",
      " 6   employeeNumber   3001 non-null   int64  \n",
      " 7   productCode      3001 non-null   object \n",
      " 8   status           3001 non-null   object \n",
      " 9   comments         759 non-null    object \n",
      " 10  quantityOrdered  3001 non-null   int64  \n",
      " 11  priceEach        3001 non-null   float64\n",
      " 12  sales_amount     3001 non-null   float64\n",
      " 13  origin           3001 non-null   object \n",
      "dtypes: float64(2), int64(5), object(7)\n",
      "memory usage: 328.4+ KB\n"
     ]
    }
   ],
   "source": [
    "# Columnas\n",
    "sales_df.columns = ['orderNumber', 'orderLineNumber', 'orderDate', 'shippedDate', 'requiredDate', 'customerNumber',\n",
    "                    'employeeNumber', 'productCode', 'status', 'comments', 'quantityOrdered', 'priceEach', 'sales_amount', 'origin']\n",
    "sales_df.info()"
   ]
  },
  {
   "cell_type": "markdown",
   "metadata": {},
   "source": [
    "* Barras\n",
    "* Scatter\n",
    "* Histogramas\n",
    "* Cajas"
   ]
  },
  {
   "cell_type": "code",
   "execution_count": 4,
   "metadata": {},
   "outputs": [
    {
     "data": {
      "text/plain": [
       "array(['Shipped', 'Resolved', 'Cancelled', 'On Hold', 'Disputed',\n",
       "       'In Process'], dtype=object)"
      ]
     },
     "execution_count": 4,
     "metadata": {},
     "output_type": "execute_result"
    }
   ],
   "source": [
    "sales_df['status'].unique()"
   ]
  },
  {
   "cell_type": "code",
   "execution_count": 8,
   "metadata": {},
   "outputs": [],
   "source": [
    "import matplotlib.pyplot as plt"
   ]
  },
  {
   "cell_type": "code",
   "execution_count": null,
   "metadata": {},
   "outputs": [
    {
     "name": "stdout",
     "output_type": "stream",
     "text": [
      "             num\n",
      "status          \n",
      "Cancelled     79\n",
      "Disputed      14\n",
      "In Process    42\n",
      "On Hold       44\n",
      "Resolved      47\n",
      "Shipped     2775\n"
     ]
    },
    {
     "data": {
      "image/png": "[encoded data removed]",
      "text/plain": [
       "<Figure size 600x400 with 1 Axes>"
      ]
     },
     "metadata": {},
     "output_type": "display_data"
    }
   ],
   "source": [
    "status_cats= sales_df.groupby('status').agg(num= ('status','count'))\n",
    "print(status_cats)\n",
    "\n",
    "fig, ax = plt.subplots(figsize = (6,4))\n",
    "ax.bar(status_cats.index, status_cats['num'], [])"
   ]
  },
  {
   "cell_type": "code",
   "execution_count": null,
   "metadata": {},
   "outputs": [],
   "source": []
  }
 ],
 "metadata": {
  "kernelspec": {
   "display_name": "Python 3.8 - AzureML",
   "language": "python",
   "name": "python38-azureml"
  },
  "language_info": {
   "codemirror_mode": {
    "name": "ipython",
    "version": 3
   },
   "file_extension": ".py",
   "mimetype": "text/x-python",
   "name": "python",
   "nbconvert_exporter": "python",
   "pygments_lexer": "ipython3",
   "version": "3.10.11"
  }
 },
 "nbformat": 4,
 "nbformat_minor": 2
}
