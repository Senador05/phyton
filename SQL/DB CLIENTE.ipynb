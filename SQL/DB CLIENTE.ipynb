{
 "cells": [
  {
   "cell_type": "code",
   "execution_count": 14,
   "metadata": {},
   "outputs": [],
   "source": [
    "import psycopg2"
   ]
  },
  {
   "cell_type": "code",
   "execution_count": 15,
   "metadata": {},
   "outputs": [
    {
     "name": "stdout",
     "output_type": "stream",
     "text": [
      "Database conn successful\n",
      "Database conn successful\n"
     ]
    },
    {
     "ename": "NameError",
     "evalue": "name 'Error' is not defined",
     "output_type": "error",
     "traceback": [
      "\u001b[0;31m---------------------------------------------------------------------------\u001b[0m",
      "\u001b[0;31mDuplicateTable\u001b[0m                            Traceback (most recent call last)",
      "Cell \u001b[0;32mIn[15], line 29\u001b[0m\n\u001b[1;32m     28\u001b[0m \u001b[38;5;28;01mtry\u001b[39;00m:\n\u001b[0;32m---> 29\u001b[0m     \u001b[43mcur\u001b[49m\u001b[38;5;241;43m.\u001b[39;49m\u001b[43mexecute\u001b[49m\u001b[43m(\u001b[49m\u001b[38;5;124;43m\"\"\"\u001b[39;49m\u001b[38;5;124;43mCREATE TABLE datafund_students(\u001b[39;49m\n\u001b[1;32m     30\u001b[0m \u001b[38;5;124;43m                student_id SERIAL PRIMARY KEY,\u001b[39;49m\n\u001b[1;32m     31\u001b[0m \u001b[38;5;124;43m                student_name VARCHAR (50) UNIQUE NOT NULL,\u001b[39;49m\n\u001b[1;32m     32\u001b[0m \u001b[38;5;124;43m                student_email VARCHAR (100) NOT NULL,\u001b[39;49m\n\u001b[1;32m     33\u001b[0m \u001b[38;5;124;43m                student_age INT NOT NULL);\u001b[39;49m\n\u001b[1;32m     34\u001b[0m \u001b[38;5;124;43m                \u001b[39;49m\u001b[38;5;124;43m\"\"\"\u001b[39;49m\u001b[43m)\u001b[49m\n\u001b[1;32m     35\u001b[0m     \u001b[38;5;66;03m# Make the changes to the database persistent\u001b[39;00m\n",
      "\u001b[0;31mDuplicateTable\u001b[0m: relation \"datafund_students\" already exists\n",
      "\nDuring handling of the above exception, another exception occurred:\n",
      "\u001b[0;31mNameError\u001b[0m                                 Traceback (most recent call last)",
      "Cell \u001b[0;32mIn[15], line 37\u001b[0m\n\u001b[1;32m     35\u001b[0m     \u001b[38;5;66;03m# Make the changes to the database persistent\u001b[39;00m\n\u001b[1;32m     36\u001b[0m     conn\u001b[38;5;241m.\u001b[39mcommit()\n\u001b[0;32m---> 37\u001b[0m \u001b[38;5;28;01mexcept\u001b[39;00m \u001b[43mError\u001b[49m \u001b[38;5;28;01mas\u001b[39;00m err:\n\u001b[1;32m     38\u001b[0m         \u001b[38;5;28mprint\u001b[39m(\u001b[38;5;124mf\u001b[39m\u001b[38;5;124m\"\u001b[39m\u001b[38;5;124mError: \u001b[39m\u001b[38;5;124m'\u001b[39m\u001b[38;5;132;01m{\u001b[39;00merr\u001b[38;5;132;01m}\u001b[39;00m\u001b[38;5;124m'\u001b[39m\u001b[38;5;124m\"\u001b[39m)\n\u001b[1;32m     39\u001b[0m         conn\u001b[38;5;241m.\u001b[39mrollback()\n",
      "\u001b[0;31mNameError\u001b[0m: name 'Error' is not defined"
     ]
    }
   ],
   "source": [
    "def create_server_connection():\n",
    "    \n",
    "    PGHOST='ep-wispy-king-a2sqb0vy.eu-central-1.aws.neon.tech'\n",
    "    PGDATABASE='data fundamentals'\n",
    "    PGUSER='data fundamentals_owner'\n",
    "    PGPASSWORD='uaiC5bUS9jJv'\n",
    "\n",
    "    conn = None\n",
    "    try:\n",
    "        conn = psycopg2.connect(database=PGDATABASE, user=PGUSER, password=PGPASSWORD, host=PGHOST, port=5432)\n",
    "        print(\"Database conn successful\")\n",
    "    except Error as err:\n",
    "        print(f\"Error: '{err}'\")\n",
    "\n",
    "    return conn\n",
    "\n",
    "connection = create_server_connection()\n",
    "# obtenga un cursor\n",
    "# ejecute querys\n",
    "# cierre cursor\n",
    "connection.close()\n",
    "# Crear tabla\n",
    "conn = create_server_connection()\n",
    "\n",
    "# Open a cursor to perform database operations\n",
    "cur = conn.cursor()\n",
    "# Execute a command: create datafund_students table\n",
    "try:\n",
    "    cur.execute(\"\"\"CREATE TABLE datafund_students(\n",
    "                student_id SERIAL PRIMARY KEY,\n",
    "                student_name VARCHAR (50) UNIQUE NOT NULL,\n",
    "                student_email VARCHAR (100) NOT NULL,\n",
    "                student_age INT NOT NULL);\n",
    "                \"\"\")\n",
    "    # Make the changes to the database persistent\n",
    "    conn.commit()\n",
    "except Error as err:\n",
    "        print(f\"Error: '{err}'\")\n",
    "        conn.rollback()\n",
    "\n",
    "# Close cursor and communication with the database\n",
    "cur.close()\n",
    "conn.close()\n"
   ]
  },
  {
   "cell_type": "code",
   "execution_count": null,
   "metadata": {},
   "outputs": [],
   "source": []
  },
  {
   "cell_type": "code",
   "execution_count": 9,
   "metadata": {},
   "outputs": [
    {
     "name": "stdout",
     "output_type": "stream",
     "text": [
      "Database conn successful\n"
     ]
    }
   ],
   "source": [
    "# INSERT\n",
    "conn = create_server_connection()\n",
    "\n",
    "cur = conn.cursor()\n",
    "\n",
    "cur.execute(\"INSERT INTO datafund_students(student_name, student_email, student_age) VALUES('Pedro','p@p.es',34)\")\n",
    "cur.execute(\"INSERT INTO datafund_students(student_name, student_email, student_age) VALUES('Anna','a@a.es',43)\")\n",
    "cur.execute(\"INSERT INTO datafund_students(student_name, student_email, student_age) VALUES('Luisa','l@l.es',54)\")\n",
    "cur.execute(\"INSERT INTO datafund_students(student_name, student_email, student_age) VALUES('Juan','j@j.es',21)\")\n",
    "\n",
    "conn.commit()\n",
    "cur.close()\n",
    "conn.close()"
   ]
  },
  {
   "cell_type": "code",
   "execution_count": 17,
   "metadata": {},
   "outputs": [
    {
     "name": "stdout",
     "output_type": "stream",
     "text": [
      "Database conn successful\n",
      "<class 'list'>\n",
      "(1, 'Pedro', 'p@p.es', 34)\n",
      "(2, 'Anna', 'a@a.es', 43)\n",
      "(3, 'Luisa', 'l@l.es', 54)\n",
      "(4, 'Juan', 'j@j.es', 21)\n"
     ]
    }
   ],
   "source": [
    "# SELECT\n",
    "conn = create_server_connection()\n",
    "\n",
    "cur = conn.cursor()\n",
    "cur.execute('SELECT * FROM datafund_students;')\n",
    "rows = cur.fetchall()\n",
    "conn.commit()\n",
    "cur.close()\n",
    "conn.close()\n",
    "\n",
    "print (type(rows))\n",
    "\n",
    "for row in rows:\n",
    "    print(row)\n"
   ]
  },
  {
   "cell_type": "code",
   "execution_count": 18,
   "metadata": {},
   "outputs": [
    {
     "name": "stdout",
     "output_type": "stream",
     "text": [
      "Database conn successful\n",
      "Database conn successful\n"
     ]
    }
   ],
   "source": [
    "# UPDATE\n",
    "conn = create_server_connection()\n",
    "\n",
    "cur = conn.cursor()\n",
    "cur.execute(\"UPDATE datafund_students SET student_age = 23 WHERE student_name = 'Juan';\")\n",
    "conn.commit()\n",
    "cur.close()\n",
    "conn.close()\n",
    "\n",
    "# DELETE\n",
    "conn = create_server_connection()\n",
    "\n",
    "cur = conn.cursor()\n",
    "cur.execute(\"\"\"DELETE from datafund_students WHERE student_name = 'Luisa'\"\"\");\n",
    "conn.commit()\n",
    "cur.close()\n",
    "conn.close()"
   ]
  }
 ],
 "metadata": {
  "kernelspec": {
   "display_name": "Python 3.10 - SDK v2",
   "language": "python",
   "name": "python310-sdkv2"
  }
 },
 "nbformat": 4,
 "nbformat_minor": 2
}
